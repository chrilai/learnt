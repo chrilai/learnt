{
 "metadata": {
  "name": "clai15_PR7"
 },
 "nbformat": 3,
 "nbformat_minor": 0,
 "worksheets": [
  {
   "cells": [
    {
     "cell_type": "markdown",
     "metadata": {},
     "source": "# Module 7 - Programming Assignment\n\nThis is the notebook for the Module 7 Programming Assignment.\n\nHere are a few tips for using the iPython HTML notebook:\n\n1.  You can use tab . Try le<&lt;tab> and see the available functions.\n2.  You can change the type of cell by picking \"Code\" or \"Markdown\" from the menu at the left.\n3.  If you keep typing in a Markdown text area, you will eventually get scroll bars. To prevent this, hit return when you come to\nthe end of the window. Only a double return creates a new paragraph.\n4.  You can find out more about Markdown text here: http://daringfireball.net/projects/markdown/ (Copy this link and put it \nin another tab for reference--Don't click it or you'll leave your notebook!).\n5.  Every so often, restart the kernel, clear all output and run all code cells so you can be certain that you didn't\ndefine something out of order.\n\n**You should rename this notebook to be &lt;your JHED id>_PR7\\.ipynb** Do it right now.\n\n**Make certain the entire notebook executes before you submit it.** (See Hint #5 above)\n\nChange the following variables:"
    },
    {
     "cell_type": "code",
     "collapsed": true,
     "input": "name = \"Christine Lai\"\njhed_id = \"clai15\"\nif name == \"Student Name\" or jhed_id == \"sname1\":\n    raise Exception( \"Change the name and/or JHED ID...preferrably to yours.\")",
     "language": "python",
     "metadata": {},
     "outputs": [],
     "prompt_number": 55
    },
    {
     "cell_type": "markdown",
     "metadata": {},
     "source": "Add whatever additional imports you require here. Stick with the standard libraries and those required by the class. The import\ngives you access to these functions: http://ipython.org/ipython-doc/stable/api/generated/IPython.core.display.html (Copy this link)\nWhich, among other things, will permit you to display HTML as the result of evaluated code (see HTML() or display_html())."
    },
    {
     "cell_type": "code",
     "collapsed": true,
     "input": "from IPython.core.display import *\nfrom copy import deepcopy",
     "language": "python",
     "metadata": {},
     "outputs": [],
     "prompt_number": 56
    },
    {
     "cell_type": "markdown",
     "metadata": {},
     "source": "In past semesters, I've assigned a regular homework problem for this week which involved doing regression planning and graphplan by hand. The students don't generally like it and I don't generally like grading it.\n\nThis semester, we're going to try something different. With the search algorithms from Module 1 and the unification algorithms from Module 6, you're going to implement a forward or progression planner. The first step should be to grab all of the essential code from your Module 6 notebook for unification and put it in this one cell. You don't even need comments. You might also want to implement the parser.\n\n**Unification code here**"
    },
    {
     "cell_type": "markdown",
     "metadata": {},
     "source": "Helper function to check if an expression is a constant."
    },
    {
     "cell_type": "code",
     "collapsed": false,
     "input": "def is_constant(exp):\n    if isinstance(exp, str): # if the expression is a string\n        if exp[0] != '?': # if the expression is not a variable\n            return True\n    return False\n\nprint is_constant([\"abc\"]) #test\nprint is_constant(\"abc\") #test\nprint is_constant(\"?abc\") #test",
     "language": "python",
     "metadata": {},
     "outputs": [
      {
       "output_type": "stream",
       "stream": "stdout",
       "text": "False\nTrue\nFalse\n"
      }
     ],
     "prompt_number": 57
    },
    {
     "cell_type": "markdown",
     "metadata": {},
     "source": "Helper function to check if an expression is a variable."
    },
    {
     "cell_type": "code",
     "collapsed": false,
     "input": "def is_variable(exp):\n    if isinstance(exp, str): # if the expression is a string\n        if exp[0] == '?': # if the expression is a variable\n            return True\n    return False\n\nprint is_variable([\"abc\"]) #test\nprint is_variable(\"abc\") #test\nprint is_variable(\"?abc\") #test",
     "language": "python",
     "metadata": {},
     "outputs": [
      {
       "output_type": "stream",
       "stream": "stdout",
       "text": "False\nFalse\nTrue\n"
      }
     ],
     "prompt_number": 58
    },
    {
     "cell_type": "markdown",
     "metadata": {},
     "source": "Helper function to return the first element in a list, or return an empty list."
    },
    {
     "cell_type": "code",
     "collapsed": false,
     "input": "def get_first(exp):\n    if exp == []:\n        return []\n    else:\n        return exp[0]\n\nprint get_first([]) #test\nprint get_first(['a','b','c']) #test",
     "language": "python",
     "metadata": {},
     "outputs": [
      {
       "output_type": "stream",
       "stream": "stdout",
       "text": "[]\na\n"
      }
     ],
     "prompt_number": 59
    },
    {
     "cell_type": "markdown",
     "metadata": {},
     "source": "Replace any items in an expression that are mapped to values in the given substitution list. This is used to apply the result from each induction step to the next iteration of the unification algorithm."
    },
    {
     "cell_type": "code",
     "collapsed": false,
     "input": "def substitute(expression, substitution_list):\n    new_expression = deepcopy(expression)\n    for index, item in enumerate(expression):\n        if is_variable(item) and item in substitution_list.keys():\n            new_expression[index] = substitution_list[item]\n        elif isinstance(item, list):\n            new_expression[index] = substitute(item, substitution_list)\n    return new_expression\n\nexpression = [\"f\", [\"f\", \"?x\"]]\nsubstitution_list = {\"?x\":\"a\"}\nprint substitute(expression, substitution_list) #test",
     "language": "python",
     "metadata": {},
     "outputs": [
      {
       "output_type": "stream",
       "stream": "stdout",
       "text": "['f', ['f', 'a']]\n"
      }
     ],
     "prompt_number": 60
    },
    {
     "cell_type": "markdown",
     "metadata": {},
     "source": "Apply the unification algorithm on a pair of expressions to see if there is a set of substitutions that can make them equivalent. Each expression is represented as a list of constants and variables. First, check to see whether the base cases in which both expressions are constants or empty lists, or in which one expression is a variable, can be applied to return a result. Otherwise, extract the first item in each expression and unify them to produce an initial result, then apply induction on the remainder of each expression and the initial result. The resulting substitution list is returned as a dict of expression/variable keys mapped to expression/variable/constant values."
    },
    {
     "cell_type": "code",
     "collapsed": false,
     "input": "def unify(exp_0, exp_1):\n    # base cases\n    if (is_constant(exp_0) or exp_0 == []) and \\\n       (is_constant(exp_1) or exp_1 == []): # if both expressions are either constants or empty\n        if exp_0 == exp_1: # if the expressions are equal, no unification is required\n            return {}\n        return 'FAIL'\n    elif is_variable(exp_0): # if the first expression is a variable\n        if exp_0 in exp_1:\n            return 'FAIL'\n        return {exp_0:exp_1}\n    elif is_variable(exp_1): # if the second expression is a variable\n        if exp_1 in exp_0:\n            return 'FAIL'\n        return {exp_1:exp_0}\n\t# induction\n    first_0 = get_first(exp_0) # the first element of the first expression\n    first_1 = get_first(exp_1) # the first element of the second expression\n    result_0 = unify(first_0, first_1) # unify first element of each expression\n    if result_0 == 'FAIL':\n        return 'FAIL'\n    result_1 = unify(substitute(exp_0[1:],result_0), substitute(exp_1[1:],result_0)) # apply result and unify rest of expressions\n    if result_1 == 'FAIL':\n        return 'FAIL'\n    return dict(result_0.items() + result_1.items())\n\nprint unify([\"?x\", \"a\"], [\"b\", \"?y\"])",
     "language": "python",
     "metadata": {},
     "outputs": [
      {
       "output_type": "stream",
       "stream": "stdout",
       "text": "{'?y': 'a', '?x': 'b'}\n"
      }
     ],
     "prompt_number": 61
    },
    {
     "cell_type": "markdown",
     "metadata": {},
     "source": "Now on to the main task.\n\nA forward planner takes the current state of the world $S_0$ and attempts to derive a plan, basically by Depth First Search. Let's take an example where $S_0$ = <code>at(Me, Home)</code> and <code>at(Drill, Store)</code>. Which we might represent as follows (you'll use your representation. I'm using the \"easy\" way where variables are prefixed by \"?\" and everything else is a literal):\n\n<code>\ninitial_state = [\n    [\"at\", \"Me\", \"Home\"],\n    [\"at\", \"Drill\", \"Store\"]\n]\n</code>\n\nAnd we have a goal state:\n\n<code>\ngoal_state = [\n    [\"at\", \"Me\", \"Home\"],\n    [\"at\", \"Drill\", \"Me\"]\n]\n</code>\n\nAnd we have the following actions:\n\n<code>\nactions = {\n    \"drive\": {\n        \"action\": [\"drive\", \"?from\", \"?to\"],\n        \"conditions\": [\n            [\"at\", \"?from\"]\n        ]\n        \"add\": [\n            [\"at\", \"?to\"]\n        ]\n        \"delete\": [\n            [\"at\", \"?from\"]\n        ]\n    },\n    \"buy\": {\n        \"action\": [\"buy\", \"?purchaser\", \"?seller\", \"?item\"],\n        \"conditions\": [\n            [\"at\", \"?item\", \"?seller\"],\n            [\"at\", \"?purchaser\", \"?seller\"]\n        ],\n        \"add\": [\n            [\"at\", \"?item\", \"?purchaser\"]\n        ]\n        \"delete\": [\n            [\"at\", \"?item\", \"?seller\"]\n        ]\n    }\n}\n</code>\n\nBy using unification and a properly defined <code>successors</code> function, you should be able to apply graph based search to the problem and return a \"path\" through the states from the initial state to the goal. You'll definitely want to use graph-based search since <code>drive(Me, Store), drive(Me, Home), drive(Me, Store), drive(Me, Home), drive(Me, Store), buy( Me, Store, Drill), drive(Me, Home)</code> is a valid plan.\n\nYour function should return the plan...but if you pass an extra debug=True parameter, it should also return the intermediate states.\n\n1. Solve the problem above.\n2. Add the purchase of Milk at the Grocery.\n3. Add the necessity of having Cash from the Bank for all purchases. There are probably any number of ways to do it but the \"easiest\" involves having to go to the Bank before each purchase.\n4. Pick/make your own problem...beware of problems with interacting goals.\n\nTo make this easier on yourself, you may want to go ahead and implement that parser...\n\nAll the usual directions apply. Functions need documentation of both what they do and the AI concept they represent/implement (if any), they should be as short as possible < 15 lines. Finish up with 1-2 paragraphs about the assignment/module."
    },
    {
     "cell_type": "markdown",
     "metadata": {},
     "source": "**Helper functions with documentation** (make more cells as needed)"
    },
    {
     "cell_type": "markdown",
     "metadata": {},
     "source": "Helper function to items in two unique lists and return the number of items that are different. This will be used to prioritize the states to be explored."
    },
    {
     "cell_type": "code",
     "collapsed": false,
     "input": "def get_num_diff(list_0, list_1):\n    if len(list_0) < len(list_1):\n        return get_num_diff(list_1, list_0)\n    else:\n        num_diff = 0\n        for item in list_0:\n            if item not in list_1:\n                num_diff += 1\n        return num_diff\n\nlist_a = [\"test_0\", \"test_0\"]\nlist_b = [\"test_0\", \"test_1\"]\nlist_c = [\"test_1\", \"test_0\"]\nprint get_num_diff(list_a, list_b) #test",
     "language": "python",
     "metadata": {},
     "outputs": [
      {
       "output_type": "stream",
       "stream": "stdout",
       "text": "0\n"
      }
     ],
     "prompt_number": 62
    },
    {
     "cell_type": "markdown",
     "metadata": {},
     "source": "Helper function to compare two states represented as unordered lists."
    },
    {
     "cell_type": "code",
     "collapsed": false,
     "input": "def is_same_state(state_0, state_1):\n    return sorted(state_0) == sorted(state_1)\n\nprint is_same_state(list_b, list_c) #test",
     "language": "python",
     "metadata": {},
     "outputs": [
      {
       "output_type": "stream",
       "stream": "stdout",
       "text": "True\n"
      }
     ],
     "prompt_number": 63
    },
    {
     "cell_type": "markdown",
     "metadata": {},
     "source": "Create a class to represent nodes in the graph. Nodes store the conditions of the current state, as well as the parent state and action taken to arrive at the node in graph search."
    },
    {
     "cell_type": "code",
     "collapsed": false,
     "input": "class Node:\n    def __init__(self, state):\n        self.state = state\n        self.parent = None # parent state\n        self.action = None # action taken to arrive at state\n        self.steps = 0 # number of actions taken to arrive at state\n        self.conditions = 0 #number of goal conditions met\n    def __repr__(self):\n        return str(self.state)\n    def __eq__(self, other):\n        if self is None or other is None:\n            if self is None and other is None:\n                return True\n            else:\n                return False\n        else:\n            return is_same_state(self.state, other.state)\n    def __ne__(self, other):\n        return not self == other\n    \nnode_a = Node(list_a)\nnode_b = Node(list_b)\nnode_c = Node(list_c)\nprint node_a #test\nprint node_a == node_a #test\nprint node_a != node_b #test",
     "language": "python",
     "metadata": {},
     "outputs": [
      {
       "output_type": "stream",
       "stream": "stdout",
       "text": "['test_0', 'test_0']\nTrue\nTrue\n"
      }
     ],
     "prompt_number": 64
    },
    {
     "cell_type": "markdown",
     "metadata": {},
     "source": "Return the sum of the number of steps taken and the number of unmet conditions for a state. This heuristic will be used to prioritize the states to be explored to reduce backtracking."
    },
    {
     "cell_type": "code",
     "collapsed": false,
     "input": "def get_priority(node):\n    return node.steps + node.conditions",
     "language": "python",
     "metadata": {},
     "outputs": [],
     "prompt_number": 65
    },
    {
     "cell_type": "markdown",
     "metadata": {},
     "source": "Helper function to check if a node is in a list of nodes."
    },
    {
     "cell_type": "code",
     "collapsed": false,
     "input": "def is_in_list(node, node_list):\n    for other_node in node_list:\n        if node.state == other_node.state:\n            return True\n    return False\n\nprint is_in_list(node_b, [node_a, node_b])",
     "language": "python",
     "metadata": {},
     "outputs": [
      {
       "output_type": "stream",
       "stream": "stdout",
       "text": "True\n"
      }
     ],
     "prompt_number": 66
    },
    {
     "cell_type": "markdown",
     "metadata": {},
     "source": "Helper function to extend a unique list of nodes."
    },
    {
     "cell_type": "code",
     "collapsed": false,
     "input": "def extend_nodes(nodes, other_nodes):\n    for other_node in other_nodes:\n        same_state = False\n        for node in nodes:\n            if node == other_node:\n                same_state = True\n        if same_state == False:\n            nodes.append(other_node)\n    return nodes\n\nprint extend_nodes([node_a, node_b], [node_b, node_c]) #test",
     "language": "python",
     "metadata": {},
     "outputs": [
      {
       "output_type": "stream",
       "stream": "stdout",
       "text": "[['test_0', 'test_0'], ['test_0', 'test_1']]\n"
      }
     ],
     "prompt_number": 67
    },
    {
     "cell_type": "markdown",
     "metadata": {},
     "source": "Helper function to extend a unique list."
    },
    {
     "cell_type": "code",
     "collapsed": false,
     "input": "def extend_list(list_0, list_1):\n    for item in list_1:\n        if item not in list_0:\n            list_0.append(item)\n    return list_0\n\nprint extend_list([\"test_0\", \"test_1\"], [\"test_1\", \"test_2\"])",
     "language": "python",
     "metadata": {},
     "outputs": [
      {
       "output_type": "stream",
       "stream": "stdout",
       "text": "['test_0', 'test_1', 'test_2']\n"
      }
     ],
     "prompt_number": 68
    },
    {
     "cell_type": "markdown",
     "metadata": {},
     "source": "Helper function to delete a list of items from a list."
    },
    {
     "cell_type": "code",
     "collapsed": false,
     "input": "def delete_list(list_0, list_1):\n    for item in list_1:\n        if item in list_0:\n            list_0.remove(item)\n    return list_0\n\nprint delete_list([\"test_0\", \"test_1\"], [\"test_1\", \"test_2\"])",
     "language": "python",
     "metadata": {},
     "outputs": [
      {
       "output_type": "stream",
       "stream": "stdout",
       "text": "['test_0']\n"
      }
     ],
     "prompt_number": 69
    },
    {
     "cell_type": "markdown",
     "metadata": {},
     "source": "Helper function to append a dictionary to each dictionary in a list of dicts. If a conflict arises in which multiple values are assigned to the same key, remove that dictionary from the list."
    },
    {
     "cell_type": "code",
     "collapsed": false,
     "input": "def append_list_of_dicts(list_of_dicts, single_dict):\n    new_list_of_dicts = []\n    if list_of_dicts == []: # if list of dicts is empty\n        new_list_of_dicts.append(single_dict) # append dict to new list of dicts\n    else:\n        for dictionary in list_of_dicts: # check every dict in list of dicts\n            conflict = False\n            for key, value in single_dict.items(): # check each key:value pair in dict\n                if key in dictionary and dictionary[key] != value: # if there is a conflict\n                    conflict = True # skip this dict\n            if conflict == False:\n                new_list_of_dicts.append(deepcopy(dictionary))\n        for dictionary in new_list_of_dicts: # update every dict in new list of dicts\n            dictionary.update(single_dict)\n    return new_list_of_dicts\n\nlist_a = [{0:\"a\"},{1:\"a\"},{0:\"a\", 1: \"b\"}]\ndict_a = {1:\"b\"}\nprint append_list_of_dicts(list_a, dict_a)\nprint list_a\nprint append_list_of_dicts([{0:\"a\"},{1:\"a\"},{0:\"a\", 1: \"b\"}], {1:\"b\"}) #test",
     "language": "python",
     "metadata": {},
     "outputs": [
      {
       "output_type": "stream",
       "stream": "stdout",
       "text": "[{0: 'a', 1: 'b'}, {0: 'a', 1: 'b'}]\n[{0: 'a'}, {1: 'a'}, {0: 'a', 1: 'b'}]\n[{0: 'a', 1: 'b'}, {0: 'a', 1: 'b'}]\n"
      }
     ],
     "prompt_number": 70
    },
    {
     "cell_type": "markdown",
     "metadata": {},
     "source": "Retrace and return the path through the explored states from the start state to the goal state. This will be used after a goal state has been found via depth first graph search."
    },
    {
     "cell_type": "code",
     "collapsed": false,
     "input": "def get_path(explored):\n    path = []\n    node = explored[-1] # start from last explored state\n    while (node.parent != None):\n        path.insert(0, node.state)\n        node = node.parent\n    path.insert(0, node.state)\n    return path",
     "language": "python",
     "metadata": {},
     "outputs": [],
     "prompt_number": 71
    },
    {
     "cell_type": "markdown",
     "metadata": {},
     "source": "Retrace the path through the explored states to return the sequence of actions taken from the start state to the goal state. This will be used after a goal state has been found via depth first graph search."
    },
    {
     "cell_type": "code",
     "collapsed": false,
     "input": "def get_plan(explored):\n    plan = []\n    node = explored[-1] # start from last explored state\n    while (node.parent != None):\n        plan.insert(0, node.action)\n        node = node.parent\n    return plan",
     "language": "python",
     "metadata": {},
     "outputs": [],
     "prompt_number": 72
    },
    {
     "cell_type": "markdown",
     "metadata": {},
     "source": "Unify a state with the given condition and return a list of viable substitutions. This will be used to unify a state with a set of conditions."
    },
    {
     "cell_type": "code",
     "collapsed": false,
     "input": "def unify_state_condition(state, condition):\n    condition_substitutions = []\n    for exp in state:\n        substitution = unify(exp, condition)\n        if substitution != 'FAIL': # if substitution is viable\n            if substitution not in condition_substitutions:\n                condition_substitutions.append(substitution)\n    return condition_substitutions\n\nprint unify_state_condition([[\"agent\", \"Me\"], [\"agent\", \"You\"], [\"item\", \"Drill\"]], [\"agent\", \"?agent\"]) #test",
     "language": "python",
     "metadata": {},
     "outputs": [
      {
       "output_type": "stream",
       "stream": "stdout",
       "text": "[{'?agent': 'Me'}, {'?agent': 'You'}]\n"
      }
     ],
     "prompt_number": 73
    },
    {
     "cell_type": "markdown",
     "metadata": {},
     "source": "Unify a state with the given set of conditions and return a list of viable substitutions. Forward checking is applied to eliminate states with conflicting variable assignments. This will be used to search for successors for the state."
    },
    {
     "cell_type": "code",
     "collapsed": false,
     "input": "def unify_state(state, conditions, list_of_substitutions):\n    if conditions == []: # base case: there are no conditions\n        return list_of_substitutions\n    new_conditions = deepcopy(conditions)\n    condition_substitutions = unify_state_condition(state, new_conditions.pop(0)) # depth first iteration over conditions\n    new_list_of_substitutions = []\n    for substitution in condition_substitutions: # iterate over all viable substitutions for each condition\n        sub_conditions = substitute(new_conditions, substitution)\n        sub_list_of_substitutions = append_list_of_dicts(list_of_substitutions, substitution) # apply forward checking\n        new_list_of_substitutions += unify_state(state, sub_conditions, sub_list_of_substitutions)\n    return new_list_of_substitutions\n\nprint unify_state([[\"agent\", \"Me\"], [\"agent\", \"You\"], [\"item\", \"Drill\"], [\"item\", \"Milk\"], [\"at\", \"Me\", \"Drill\"]],\n                  [[\"agent\", \"?agent\"], [\"item\", \"?item\"], [\"at\", \"?agent\", \"?item\"]],\n                  []) #test",
     "language": "python",
     "metadata": {},
     "outputs": [
      {
       "output_type": "stream",
       "stream": "stdout",
       "text": "[{'?agent': 'Me', '?item': 'Drill'}]\n"
      }
     ],
     "prompt_number": 74
    },
    {
     "cell_type": "markdown",
     "metadata": {},
     "source": "Search for successors to a state that have not yet been explored by identifying all the possible actions that can be taken. This will be used to perform an iteration of the graph search."
    },
    {
     "cell_type": "code",
     "collapsed": false,
     "input": "def get_successors(state, goal, actions, explored):\n    successors = []\n    for action in actions: # depth first iteration over actions\n        list_of_substitutions = unify_state(state.state, actions[action][\"conditions\"], [])\n        for substitution in list_of_substitutions: # for each unique substitution list\n            successor_state = deepcopy(state.state)\n            delete_list(successor_state, substitute(actions[action][\"delete\"], substitution)) # delete negative postconditions\n            extend_list(successor_state, substitute(actions[action][\"add\"], substitution)) # add positive postconditions\n            successor = Node(successor_state)\n            successor.action = substitute(actions[action][\"action\"], substitution) # set action taken from parent state\n            successor.parent = state # set parent state\n            successor.steps = state.steps + 1\n            successor.conditions = get_num_diff(successor.state, goal.state)\n            if not is_in_list(successor, explored):\n                successors.append(successor)\n    return successors",
     "language": "python",
     "metadata": {},
     "outputs": [],
     "prompt_number": 75
    },
    {
     "cell_type": "markdown",
     "metadata": {},
     "source": "**Entry function**\n\nImplement a forward planner using graph search. First, add the start state to the list of explored nodes and push it to the stack of unexplored nodes. Then check whether the state meets the conditions for each action to produce a list of viable successor states and add them to the stack. If no viable successor state is found, backtrack to the next item on the stack. Add the first state from the stack to the explored nodes and repeat this process until the goal state is reached. Finally, retrace the path from the explored states and return a plan of actions to be taken. If no viable plan is found, return an error message. If debugging is set to True, print the state at each step.\nSimple depth first search avoids loops but does not always produce a solution with the minimum number of actions. To produce an optimal solution, prioritize the stack using A\\* search with a heuristic cost function, while using a depth first approach to discover new states."
    },
    {
     "cell_type": "code",
     "collapsed": false,
     "input": "def forward_planner( initial_state, goal_state, actions, debug=False):\n    state = Node(initial_state) #set start state\n    goal = Node(goal_state) #set goal state\n    state.conditions = get_num_diff(state.state, goal.state)\n    explored = [] # list of explored states\n    stack = [] # depth first search stack\n    #if debug == True: print \"Initial State: \" + str(state)\n    while (state != goal): # until goal state is reached\n        explored.append(state) #add state to explored states\n        #stack = extend_nodes(get_successors(state, goal, actions, explored), stack) # simple depth first search\n        stack = extend_nodes(stack, get_successors(state, goal, actions, explored)) # A* selection, depth first exploration\n        stack.sort(key=get_priority)\n        if stack == []: # check if stack is empty\n            return \"Error: No viable plan found.\"\n        state = stack.pop(0) #move to highest priority node in frontier\n    #if debug == True: print \"Explored State: \" + str(state)\n    explored.append(state) #add goal state to explored states\n    #if debug == True: print \"Final State: \" + str(state)\n    #if debug == True: print \"States Explored: \" + str(len(explored))\n    if debug == True: print \"\\nPath through States: \" + str(get_path(explored))\n    return get_plan(explored) #retrieve and return path from explored nodes",
     "language": "python",
     "metadata": {},
     "outputs": [],
     "prompt_number": 76
    },
    {
     "cell_type": "markdown",
     "metadata": {},
     "source": "**Any Testing**"
    },
    {
     "cell_type": "code",
     "collapsed": false,
     "input": "initial_state = [\n    [\"agent\", \"Me\"],\n    [\"place\", \"Home\"],\n    [\"place\", \"Store\"],\n    [\"at\", \"Me\", \"Home\"]\n]\ngoal_state = [\n    [\"agent\", \"Me\"],\n    [\"place\", \"Home\"],\n    [\"place\", \"Store\"],\n    [\"at\", \"Me\", \"Store\"]\n]\nactions = {}\nprint forward_planner( initial_state, goal_state, actions, debug=False)\nactions = {\n    \"drive\": {\n        \"action\": [\"drive\", \"?agent\", \"?from\", \"?to\"],\n        \"conditions\": [\n            [\"agent\", \"?agent\"],\n            [\"place\", \"?from\"],\n            [\"place\", \"?to\"],\n            [\"at\", \"?agent\", \"?from\"]\n        ],\n        \"add\": [\n            [\"at\", \"?agent\", \"?to\"]\n        ],\n        \"delete\": [\n            [\"at\", \"?agent\", \"?from\"]\n        ]\n    }\n}\nprint \"\\nAction Plan: \" + str(forward_planner( initial_state, goal_state, actions, debug=False))",
     "language": "python",
     "metadata": {},
     "outputs": [
      {
       "output_type": "stream",
       "stream": "stdout",
       "text": "Error: No viable plan found.\n\nAction Plan: [['drive', 'Me', 'Home', 'Store']]\n"
      }
     ],
     "prompt_number": 77
    },
    {
     "cell_type": "markdown",
     "metadata": {},
     "source": "**Question 1**: The agent begins at Home with nothing. The agent must purchase a Drill from the Store and return Home."
    },
    {
     "cell_type": "code",
     "collapsed": false,
     "input": "knowledge_base = [\n    [\"agent\", \"Me\"],\n    [\"item\", \"Drill\"],\n    [\"place\", \"Home\"],\n    [\"place\", \"Store\"]\n]\ninitial_state = knowledge_base + [\n    [\"at\", \"Me\", \"Home\"],\n    [\"at\", \"Drill\", \"Store\"]\n]\ngoal_state = knowledge_base + [\n    [\"at\", \"Me\", \"Home\"],\n    [\"at\", \"Drill\", \"Me\"]\n]\nactions = {\n    \"drive\": {\n        \"action\": [\"drive\", \"?agent\", \"?from\", \"?to\"],\n        \"conditions\": [\n            [\"agent\", \"?agent\"],\n            [\"place\", \"?from\"],\n            [\"place\", \"?to\"],\n            [\"at\", \"?agent\", \"?from\"]\n        ],\n        \"add\": [\n            [\"at\", \"?agent\", \"?to\"]\n        ],\n        \"delete\": [\n            [\"at\", \"?agent\", \"?from\"]\n        ]\n    },\n    \"buy\": {\n        \"action\": [\"buy\", \"?item\", \"?purchaser\", \"?seller\"],\n        \"conditions\": [\n            [\"item\", \"?item\"],\n            [\"agent\", \"?purchaser\"],\n            [\"place\", \"?seller\"],\n            [\"at\", \"?item\", \"?seller\"],\n            [\"at\", \"?purchaser\", \"?seller\"]\n        ],\n        \"add\": [\n            [\"at\", \"?item\", \"?purchaser\"]\n        ],\n        \"delete\": [\n            [\"at\", \"?item\", \"?seller\"]\n        ],\n    }\n}\nprint \"\\nAction Plan: \" + str(forward_planner(initial_state, goal_state, actions, False))",
     "language": "python",
     "metadata": {},
     "outputs": [
      {
       "output_type": "stream",
       "stream": "stdout",
       "text": "\nAction Plan: [['drive', 'Me', 'Home', 'Store'], ['buy', 'Drill', 'Me', 'Store'], ['drive', 'Me', 'Store', 'Home']]\n"
      }
     ],
     "prompt_number": 78
    },
    {
     "cell_type": "markdown",
     "metadata": {},
     "source": "**Question 2**: The agent must additionally purchase Milk from the Grocery."
    },
    {
     "cell_type": "code",
     "collapsed": false,
     "input": "knowledge_base = [\n    [\"agent\", \"Me\"],\n    [\"item\", \"Drill\"],\n    [\"item\", \"Milk\"],\n    [\"place\", \"Home\"],\n    [\"place\", \"Store\"],\n    [\"place\", \"Grocery\"]\n]\ninitial_state = knowledge_base + [\n    [\"at\", \"Me\", \"Home\"],\n    [\"at\", \"Drill\", \"Store\"],\n    [\"at\", \"Milk\", \"Grocery\"]\n]\ngoal_state = knowledge_base + [\n    [\"at\", \"Me\", \"Home\"],\n    [\"at\", \"Drill\", \"Me\"],\n    [\"at\", \"Milk\", \"Me\"]\n]\nactions = {\n    \"drive\": {\n        \"action\": [\"drive\", \"?agent\", \"?from\", \"?to\"],\n        \"conditions\": [\n            [\"agent\", \"?agent\"],\n            [\"place\", \"?from\"],\n            [\"place\", \"?to\"],\n            [\"at\", \"?agent\", \"?from\"]\n        ],\n        \"add\": [\n            [\"at\", \"?agent\", \"?to\"]\n        ],\n        \"delete\": [\n            [\"at\", \"?agent\", \"?from\"]\n        ]\n    },\n    \"buy\": {\n        \"action\": [\"buy\", \"?item\", \"?purchaser\", \"?seller\"],\n        \"conditions\": [\n            [\"item\", \"?item\"],\n            [\"agent\", \"?purchaser\"],\n            [\"place\", \"?seller\"],\n            [\"at\", \"?item\", \"?seller\"],\n            [\"at\", \"?purchaser\", \"?seller\"]\n        ],\n        \"add\": [\n            [\"at\", \"?item\", \"?purchaser\"]\n        ],\n        \"delete\": [\n            [\"at\", \"?item\", \"?seller\"]\n        ],\n    }\n}\nprint \"\\nAction Plan: \" + str(forward_planner(initial_state, goal_state, actions, False))",
     "language": "python",
     "metadata": {},
     "outputs": [
      {
       "output_type": "stream",
       "stream": "stdout",
       "text": "\nAction Plan: [['drive', 'Me', 'Home', 'Store'], ['buy', 'Drill', 'Me', 'Store'], ['drive', 'Me', 'Store', 'Grocery'], ['buy', 'Milk', 'Me', 'Grocery'], ['drive', 'Me', 'Grocery', 'Home']]\n"
      }
     ],
     "prompt_number": 79
    },
    {
     "cell_type": "markdown",
     "metadata": {},
     "source": "**Question 3**: Prior to each purchase, the agent must visit the Bank to withdraw Cash."
    },
    {
     "cell_type": "code",
     "collapsed": false,
     "input": "knowledge_base = [\n    [\"agent\", \"Me\"],\n    [\"item\", \"Drill\"],\n    [\"item\", \"Milk\"],\n    [\"money\", \"Cash\"], # can also hardcode Cash as an item in the \"withdraw\" action\n    [\"place\", \"Home\"],\n    [\"place\", \"Store\"],\n    [\"place\", \"Grocery\"],\n    [\"place\", \"Bank\"],\n    [\"at\", \"Cash\", \"Bank\"]\n]\ninitial_state = knowledge_base + [\n    [\"at\", \"Me\", \"Home\"],\n    [\"at\", \"Drill\", \"Store\"],\n    [\"at\", \"Milk\", \"Grocery\"]\n]\ngoal_state = knowledge_base + [\n    [\"at\", \"Me\", \"Home\"],\n    [\"at\", \"Drill\", \"Me\"],\n    [\"at\", \"Milk\", \"Me\"]\n]\nactions = {\n    \"drive\": {\n        \"action\": [\"drive\", \"?agent\", \"?from\", \"?to\"],\n        \"conditions\": [\n            [\"agent\", \"?agent\"],\n            [\"place\", \"?from\"],\n            [\"place\", \"?to\"],\n            [\"at\", \"?agent\", \"?from\"]\n        ],\n        \"add\": [\n            [\"at\", \"?agent\", \"?to\"]\n        ],\n        \"delete\": [\n            [\"at\", \"?agent\", \"?from\"]\n        ]\n    },\n    \"buy\": {\n        \"action\": [\"buy\", \"?item\", \"?purchaser\", \"?seller\"],\n        \"conditions\": [\n            [\"item\", \"?item\"],\n            [\"agent\", \"?purchaser\"],\n            [\"place\", \"?seller\"],\n            [\"at\", \"?item\", \"?seller\"],\n            [\"at\", \"?purchaser\", \"?seller\"],\n            [\"at\", \"?money\", \"?purchaser\"]\n        ],\n        \"add\": [\n            [\"at\", \"?item\", \"?purchaser\"]\n        ],\n        \"delete\": [\n            [\"at\", \"?item\", \"?seller\"],\n            [\"at\", \"?money\", \"?purchaser\"]\n        ],\n    },\n    \"withdraw\": {\n        \"action\": [\"withdraw\", \"?money\", \"?withdrawer\", \"?depositee\"],\n        \"conditions\": [\n            [\"money\", \"?money\"],\n            [\"agent\", \"?withdrawer\"],\n            [\"place\", \"?depositee\"],\n            [\"at\", \"?money\", \"?depositee\"],\n            [\"at\", \"?withdrawer\", \"?depositee\"]\n        ],\n        \"add\": [\n            [\"at\", \"?money\", \"?withdrawer\"]\n        ],\n        \"delete\": [\n        ],\n    }\n}\nprint \"\\nAction Plan: \" + str(forward_planner(initial_state, goal_state, actions, False))",
     "language": "python",
     "metadata": {},
     "outputs": [
      {
       "output_type": "stream",
       "stream": "stdout",
       "text": "\nAction Plan: [['drive', 'Me', 'Home', 'Bank'], ['withdraw', 'Cash', 'Me', 'Bank'], ['drive', 'Me', 'Bank', 'Store'], ['buy', 'Drill', 'Me', 'Store'], ['drive', 'Me', 'Store', 'Bank'], ['withdraw', 'Cash', 'Me', 'Bank'], ['drive', 'Me', 'Bank', 'Grocery'], ['buy', 'Milk', 'Me', 'Grocery'], ['drive', 'Me', 'Grocery', 'Home']]\n"
      }
     ],
     "prompt_number": 80
    },
    {
     "cell_type": "markdown",
     "metadata": {},
     "source": "**Question 4**: The agent must buy a Gift from the Store, wrap it, and then give it to the other agent, who is at the Restaurant."
    },
    {
     "cell_type": "code",
     "collapsed": false,
     "input": "knowledge_base = [\n    [\"agent\", \"Me\"],\n    [\"agent\", \"You\"],\n    [\"item\", \"Gift\"],\n    [\"money\", \"Cash\"], # can also hardcode Cash in the \"withdraw\" action\n    [\"place\", \"Home\"],\n    [\"place\", \"Store\"],\n    [\"place\", \"Bank\"],\n    [\"place\", \"Restaurant\"],\n    [\"wrapper\", \"Giftwrap\"], # can also hardcode Giftwrap in the \"wrap\" action\n    [\"at\", \"Cash\", \"Bank\"],\n    [\"at\", \"You\", \"Restaurant\"]\n]\ninitial_state = knowledge_base + [\n    [\"at\", \"Me\", \"Home\"],\n    [\"at\", \"Giftwrap\", \"Me\"],\n    [\"at\", \"Gift\", \"Store\"]\n]\ngoal_state = knowledge_base + [\n    [\"at\", \"Me\", \"Restaurant\"],\n    [\"at\", \"Gift\", \"You\"],\n    [\"wrapped\", \"Gift\"]\n]\nactions = {\n    \"drive\": {\n        \"action\": [\"drive\", \"?agent\", \"?from\", \"?to\"],\n        \"conditions\": [\n            [\"agent\", \"?agent\"],\n            [\"place\", \"?from\"],\n            [\"place\", \"?to\"],\n            [\"at\", \"?agent\", \"?from\"]\n        ],\n        \"add\": [\n            [\"at\", \"?agent\", \"?to\"]\n        ],\n        \"delete\": [\n            [\"at\", \"?agent\", \"?from\"]\n        ]\n    },\n    \"buy\": {\n        \"action\": [\"buy\", \"?item\", \"?purchaser\", \"?seller\"],\n        \"conditions\": [\n            [\"item\", \"?item\"],\n            [\"agent\", \"?purchaser\"],\n            [\"place\", \"?seller\"],\n            [\"at\", \"?item\", \"?seller\"],\n            [\"at\", \"?purchaser\", \"?seller\"],\n            [\"at\", \"?money\", \"?purchaser\"]\n        ],\n        \"add\": [\n            [\"at\", \"?item\", \"?purchaser\"]\n        ],\n        \"delete\": [\n            [\"at\", \"?item\", \"?seller\"],\n            [\"at\", \"?money\", \"?purchaser\"]\n        ],\n    },\n    \"withdraw\": {\n        \"action\": [\"withdraw\", \"?money\", \"?withdrawer\", \"?depositee\"],\n        \"conditions\": [\n            [\"money\", \"?money\"],\n            [\"agent\", \"?withdrawer\"],\n            [\"place\", \"?depositee\"],\n            [\"at\", \"?money\", \"?depositee\"],\n            [\"at\", \"?withdrawer\", \"?depositee\"]\n        ],\n        \"add\": [\n            [\"at\", \"?money\", \"?withdrawer\"]\n        ],\n        \"delete\": [\n        ],\n    },\n    \"wrap\": {\n        \"action\": [\"wrap\", \"?item\", \"?agent\", \"?wrapper\"],\n        \"conditions\": [\n            [\"agent\", \"?agent\"],\n            [\"item\", \"?item\"],\n            [\"wrapper\", \"?wrapper\"],\n            [\"at\", \"?item\", \"?agent\"],\n            [\"at\", \"?wrapper\", \"?agent\"]\n        ],\n        \"add\": [\n            [\"wrapped\", \"?item\"]\n        ],\n        \"delete\": [\n            [\"at\", \"?wrapper\", \"?agent\"]\n        ],\n    },\n    \"give\": {\n        \"action\": [\"give\", \"?item\", \"?agent\", \"?other\"],\n        \"conditions\": [\n            [\"item\", \"?item\"],\n            [\"agent\", \"?agent\"],\n            [\"agent\", \"?other\"],\n            [\"at\", \"?agent\", \"?place\"],\n            [\"at\", \"?other\", \"?place\"],\n            [\"at\", \"?item\", \"?agent\"],\n            [\"wrapped\", \"?item\"]\n        ],\n        \"add\": [\n            [\"at\", \"?item\", \"?other\"]\n        ],\n        \"delete\": [\n            [\"at\", \"?item\", \"?agent\"]\n        ],\n    }\n}\nprint \"\\nAction Plan: \" + str(forward_planner(initial_state, goal_state, actions, True))",
     "language": "python",
     "metadata": {},
     "outputs": [
      {
       "output_type": "stream",
       "stream": "stdout",
       "text": "\nPath through States: [[['agent', 'Me'], ['agent', 'You'], ['item', 'Gift'], ['money', 'Cash'], ['place', 'Home'], ['place', 'Store'], ['place', 'Bank'], ['place', 'Restaurant'], ['wrapper', 'Giftwrap'], ['at', 'Cash', 'Bank'], ['at', 'You', 'Restaurant'], ['at', 'Me', 'Home'], ['at', 'Giftwrap', 'Me'], ['at', 'Gift', 'Store']], [['agent', 'Me'], ['agent', 'You'], ['item', 'Gift'], ['money', 'Cash'], ['place', 'Home'], ['place', 'Store'], ['place', 'Bank'], ['place', 'Restaurant'], ['wrapper', 'Giftwrap'], ['at', 'Cash', 'Bank'], ['at', 'You', 'Restaurant'], ['at', 'Giftwrap', 'Me'], ['at', 'Gift', 'Store'], ['at', 'Me', 'Bank']], [['agent', 'Me'], ['agent', 'You'], ['item', 'Gift'], ['money', 'Cash'], ['place', 'Home'], ['place', 'Store'], ['place', 'Bank'], ['place', 'Restaurant'], ['wrapper', 'Giftwrap'], ['at', 'Cash', 'Bank'], ['at', 'You', 'Restaurant'], ['at', 'Giftwrap', 'Me'], ['at', 'Gift', 'Store'], ['at', 'Me', 'Bank'], ['at', 'Cash', 'Me']], [['agent', 'Me'], ['agent', 'You'], ['item', 'Gift'], ['money', 'Cash'], ['place', 'Home'], ['place', 'Store'], ['place', 'Bank'], ['place', 'Restaurant'], ['wrapper', 'Giftwrap'], ['at', 'Cash', 'Bank'], ['at', 'You', 'Restaurant'], ['at', 'Giftwrap', 'Me'], ['at', 'Gift', 'Store'], ['at', 'Cash', 'Me'], ['at', 'Me', 'Store']], [['agent', 'Me'], ['agent', 'You'], ['item', 'Gift'], ['money', 'Cash'], ['place', 'Home'], ['place', 'Store'], ['place', 'Bank'], ['place', 'Restaurant'], ['wrapper', 'Giftwrap'], ['at', 'Cash', 'Bank'], ['at', 'You', 'Restaurant'], ['at', 'Giftwrap', 'Me'], ['at', 'Me', 'Store'], ['at', 'Gift', 'Me']], [['agent', 'Me'], ['agent', 'You'], ['item', 'Gift'], ['money', 'Cash'], ['place', 'Home'], ['place', 'Store'], ['place', 'Bank'], ['place', 'Restaurant'], ['wrapper', 'Giftwrap'], ['at', 'Cash', 'Bank'], ['at', 'You', 'Restaurant'], ['at', 'Me', 'Store'], ['at', 'Gift', 'Me'], ['wrapped', 'Gift']], [['agent', 'Me'], ['agent', 'You'], ['item', 'Gift'], ['money', 'Cash'], ['place', 'Home'], ['place', 'Store'], ['place', 'Bank'], ['place', 'Restaurant'], ['wrapper', 'Giftwrap'], ['at', 'Cash', 'Bank'], ['at', 'You', 'Restaurant'], ['at', 'Gift', 'Me'], ['wrapped', 'Gift'], ['at', 'Me', 'Restaurant']], [['agent', 'Me'], ['agent', 'You'], ['item', 'Gift'], ['money', 'Cash'], ['place', 'Home'], ['place', 'Store'], ['place', 'Bank'], ['place', 'Restaurant'], ['wrapper', 'Giftwrap'], ['at', 'Cash', 'Bank'], ['at', 'You', 'Restaurant'], ['wrapped', 'Gift'], ['at', 'Me', 'Restaurant'], ['at', 'Gift', 'You']]]\n\nAction Plan: [['drive', 'Me', 'Home', 'Bank'], ['withdraw', 'Cash', 'Me', 'Bank'], ['drive', 'Me', 'Bank', 'Store'], ['buy', 'Gift', 'Me', 'Store'], ['wrap', 'Gift', 'Me', 'Giftwrap'], ['drive', 'Me', 'Store', 'Restaurant'], ['give', 'Gift', 'Me', 'You']]\n"
      }
     ],
     "prompt_number": 81
    },
    {
     "cell_type": "markdown",
     "metadata": {},
     "source": "**Observations**"
    },
    {
     "cell_type": "markdown",
     "metadata": {},
     "source": "My implementation of the graph search followed the same overall structure as my implementation of A\\* search in PR1. I maintained a stack onto which I added each set of child successors, allowing for nonrecursive backtracking to unexplored states.\nIn PR6, my implementation of the unification algorithm included a parser to accept an alternative syntax and to convert the strings in each expression to Constant and Variable classes, which gave it greater flexibility. However, I decided that these extra features were unnecessary for the purposes of this assignment and streamlined the unification code to make it more efficient.\n\nThe most difficult thing for me was correctly implementing a function to retrieve successor states. To make things easier, I broke out the search algorithm into three levels: iterating through each of the actions, checking each of the conditions, and unifying the state with an individual condition. I checked each condition iteratively to build a viable substitution list, which enabled me to conduct forward checking by dropping the intermediate substitution list as soon as a conflict was detected and backtracking to the previous condition. To prevent a loop from occurring, I also had to eliminate any duplicate substitution lists/successors at each step of the search.\n\nAfter completing Question 2, I noticed that once at least three locations were included in the problem, simple depth first search avoided loops but did not produce the most efficient solution. For example, the path resulting from simple depth first search would begin with a drive from the Home to the Store, then on to the Grocery, and finally to the Bank. In order to produce a path that began with a drive from the Home directly to the Bank, I prioritized the stack based upon the number of steps required to reach the state, which was essentially a breadth first approach for selection and a depth first approach for exploration. While working on Question 4, I noticed that a lot of explored states were abandoned through backtracking. I then prioritized the stack using an improved heuristic function that summed the number of steps with the number of unmet conditions, which was essentially an A\\* approach for selection and a depth first approach for exploration."
    }
   ],
   "metadata": {}
  }
 ]
}