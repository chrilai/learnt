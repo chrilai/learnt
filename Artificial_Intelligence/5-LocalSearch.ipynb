{
 "metadata": {
  "name": "clai15_PR5"
 },
 "nbformat": 3,
 "nbformat_minor": 0,
 "worksheets": [
  {
   "cells": [
    {
     "cell_type": "markdown",
     "metadata": {},
     "source": "Module 5 - Programming Assignment\n=\nThis is the notebook for the Module 5 Programming Assignment.\n\nHere are a few tips for using the iPython HTML notebook:\n\n1.  You can use tab . Try le<&lt;tab> and see the available functions.\n2.  You can change the type of cell by picking \"Code\" or \"Markdown\" from the menu at the left.\n3.  If you keep typing in a Markdown text area, you will eventually get scroll bars. To prevent this, hit return when you come to\nthe end of the window. Only a double return creates a new paragraph.\n4.  You can find out more about Markdown text here: http://daringfireball.net/projects/markdown/ (Copy this link and put it \nin another tab for reference--Don't click it or you'll leave your notebook!).\n5.  Every so often, restart the kernel, clear all output and run all code cells so you can be certain that you didn't\ndefine something out of order.\n\n**You should rename this notebook to be &lt;your JHED id>_PR5\\.ipynb** Do it right now.\n\n**Make certain the entire notebook executes before you submit it.** (See Hint #5 above)\n\nChange the following variables:"
    },
    {
     "cell_type": "code",
     "collapsed": true,
     "input": "name = \"Christine Lai\"\njhed_id = \"clai15\"\nif name == \"Student Name\" or jhed_id == \"sname1\":\n    raise Exception( \"Change the name and/or JHED ID...preferrably to yours.\")",
     "language": "python",
     "metadata": {},
     "outputs": [],
     "prompt_number": 1
    },
    {
     "cell_type": "markdown",
     "metadata": {},
     "source": "Add whatever additional imports you require here. Stick with the standard libraries and those required by the class. The import\ngives you access to these functions: http://ipython.org/ipython-doc/stable/api/generated/IPython.core.display.html (Copy this link)\nWhich, among other things, will permit you to display HTML as the result of evaluated code (see HTML() or display_html())."
    },
    {
     "cell_type": "code",
     "collapsed": true,
     "input": "from IPython.core.display import *\nfrom random import choice\nfrom random import random\nimport string\nfrom StringIO import StringIO",
     "language": "python",
     "metadata": {},
     "outputs": [],
     "prompt_number": 2
    },
    {
     "cell_type": "markdown",
     "metadata": {},
     "source": "For this assignment, you are going to implement both hill-climbing and a genetic algorithm to solve a problem.\n\nThe problem is to generate the phrase \"methinks it is like a weasel\" which is from Hamlet. The particular phrase was made popular in Richard Dawkin's book *The Blind Watchmaker*.\n\nYou will need to think of an evaluation function that compares two strings and returns a score that indicates how different the two strings are. It would return zero if the two strings are identical. You may find the ord() function helpful. It returns the ASCII code for a single string character:\n\n"
    },
    {
     "cell_type": "code",
     "collapsed": false,
     "input": "ord( \"a\")",
     "language": "python",
     "metadata": {},
     "outputs": [
      {
       "metadata": {},
       "output_type": "pyout",
       "prompt_number": 3,
       "text": "97"
      }
     ],
     "prompt_number": 3
    },
    {
     "cell_type": "markdown",
     "metadata": {},
     "source": "For hill-climbing, you will need to create a successor function. Because the state space is so large (for a given string, the successor function should return\nevery possible single letter permutation of the current string), you will want to use a stochastic successor function that simply returns one of those possibilities at random.\n\nFor the genetic algorithm, you will need a function to generate a random individual, you will need a crossover operator, and a mutation operator. For this assignment, you can use tournament selection (remember that tournament selection involves picking seven individuals at random and returning the best one) because\nthe fitness function needs to be *minimized*.\n\nFinally, both of your implementations should work with a string of any length (not just the given target)."
    },
    {
     "cell_type": "markdown",
     "metadata": {},
     "source": "You can put all of your helper functions and documentation here."
    },
    {
     "cell_type": "markdown",
     "metadata": {},
     "source": "Select a random character from the lowercase letters and space [a-z,' ']. This will be used to add random letters to a string for the stochastic successor function, or to change random letters in a string for the mutation operator."
    },
    {
     "cell_type": "code",
     "collapsed": false,
     "input": "def get_random_char():\n    characters = string.ascii_lowercase + ' ' # possible character space\n    return choice(characters)\n\nprint \"'\" + string.ascii_lowercase + ' ' + \"'\" #test\nfor i in range(10):\n    print get_random_char(), #test",
     "language": "python",
     "metadata": {},
     "outputs": [
      {
       "output_type": "stream",
       "stream": "stdout",
       "text": "'abcdefghijklmnopqrstuvwxyz '\nt p y y r y w h k  \n"
      }
     ],
     "prompt_number": 4
    },
    {
     "cell_type": "markdown",
     "metadata": {},
     "source": "Generate a random string of a certain length. This can be used as an initial state for local search. _If we start with an empty string [\"\"], this function is not used._"
    },
    {
     "cell_type": "code",
     "collapsed": false,
     "input": "def get_random_string( size):\n    string = \"\"\n    for char in range(size):\n        string += get_random_char()\n    return string\n\nfor i in range(10):\n    print get_random_string(5), #test",
     "language": "python",
     "metadata": {},
     "outputs": [
      {
       "output_type": "stream",
       "stream": "stdout",
       "text": "wqjsr arccl dhnrv xozri uqykm gnahq  pubc uwsii ktats elskm\n"
      }
     ],
     "prompt_number": 5
    },
    {
     "cell_type": "markdown",
     "metadata": {},
     "source": "Add a random character to a random position in a string. This is used to generate successor states for the stochastic successor function."
    },
    {
     "cell_type": "code",
     "collapsed": false,
     "input": "def add_random_char( string):\n    index = choice(range(len(string)+1)) # select a random position between the characters in the string\n    return string[:index] + get_random_char() + string[index:] # add a random character to a random position\n\nfor i in range(10):\n    print add_random_char(\"abcde\"), #test",
     "language": "python",
     "metadata": {},
     "outputs": [
      {
       "output_type": "stream",
       "stream": "stdout",
       "text": "abcjde abcdse abcdew abcvde abacde abcdef abcdey abzcde abcxde abcdez\n"
      }
     ],
     "prompt_number": 6
    },
    {
     "cell_type": "markdown",
     "metadata": {},
     "source": "Remove a character from a random position in a string. This is used to generate successor states for the stochastic successor function."
    },
    {
     "cell_type": "code",
     "collapsed": false,
     "input": "def remove_random_char( string):\n    if len(string) == 0:\n        return string\n    index = choice(range(len(string))) # select a random character in the string\n    return string[:index] + string[index+1:] # remove a character from a random position\n\nfor i in range(10):\n    print remove_random_char(\"abcde\"), #test",
     "language": "python",
     "metadata": {},
     "outputs": [
      {
       "output_type": "stream",
       "stream": "stdout",
       "text": "abde acde bcde acde abcd abce bcde bcde bcde acde\n"
      }
     ],
     "prompt_number": 7
    },
    {
     "cell_type": "markdown",
     "metadata": {},
     "source": "Randomly change a character at a random position in a string. This is used to generate successor states through the mutation operator for the genetic algorithm."
    },
    {
     "cell_type": "code",
     "collapsed": false,
     "input": "def change_random_char( string):\n    index = choice(range(len(string))) # select a random character in the string\n    return string[:index] + get_random_char() + string[index+1:] # randomly change a character at a random position\n\nfor i in range(10):\n    print change_random_char(\"abcde\"), #test",
     "language": "python",
     "metadata": {},
     "outputs": [
      {
       "output_type": "stream",
       "stream": "stdout",
       "text": "abcke abcdo abcdv abide abcdh avcde adcde aecde abfde abcme\n"
      }
     ],
     "prompt_number": 8
    },
    {
     "cell_type": "markdown",
     "metadata": {},
     "source": "Randomize a string by replacing an approximate percentage of the characters with randomly selected characters.  This is used to generate successor states for the stochastic successor function."
    },
    {
     "cell_type": "code",
     "collapsed": false,
     "input": "def randomize( string, chance):\n    randomized_string = \"\"\n    for char in string:\n        if random() < chance:\n            randomized_string += get_random_char()\n        else:\n            randomized_string += char\n    return randomized_string\n\nfor i in range(10):\n    print randomize(\"abcde\", 0.5), #test",
     "language": "python",
     "metadata": {},
     "outputs": [
      {
       "output_type": "stream",
       "stream": "stdout",
       "text": "avcdq abcfo abjde wacdn abcdt wpcde xzede fbhoe abcby ynwne\n"
      }
     ],
     "prompt_number": 9
    },
    {
     "cell_type": "markdown",
     "metadata": {},
     "source": "Calculate a numerical value representing the difference between a string and a target string. The value prioritizes the number of characters in each string, followed by the nature and ordering of the characters. If the length of the string is different from the length of the target, the difference value will always be higher than that of any string that has the same length as the target. This serves as the fitness evaluation function that is used to choose the best successor state for the hill-climbing and genetic algorithms."
    },
    {
     "cell_type": "code",
     "collapsed": false,
     "input": "def get_diff( target, string):\n    diff = 0\n    diff += len(target)*abs(len(target) - len(string)) # increment large amount for each discrepancy in character length\n    for i, char in enumerate(target):\n        if i >= len(string) or char != string[i]:\n            diff += 1 # increment by 1 for each discrepancy in character mismatch\n    return diff\n\nprint get_diff(\"abcde\", \"abc \") #test",
     "language": "python",
     "metadata": {},
     "outputs": [
      {
       "output_type": "stream",
       "stream": "stdout",
       "text": "7\n"
      }
     ],
     "prompt_number": 10
    },
    {
     "cell_type": "markdown",
     "metadata": {},
     "source": "From a given list of successor states, perform a stage of tournament selection to return the string with the minimum difference from the target as the best successor states. This would represent the next potential successor state in the hill-climbing algorithm or one of the next parent states in the genetic algorithm."
    },
    {
     "cell_type": "code",
     "collapsed": false,
     "input": "def get_best_successor( target, successors):\n    successor = \"\"\n    min_diff = get_diff(target, successor)\n    for string in successors:\n        diff = get_diff(target, string)\n        if diff < min_diff:\n            successor = string\n            min_diff = diff\n    return successor\n\nprint get_best_successor(\"abc\", [\"ab\", \"bcd\",\"a c\"]) #test",
     "language": "python",
     "metadata": {},
     "outputs": [
      {
       "output_type": "stream",
       "stream": "stdout",
       "text": "a c\n"
      }
     ],
     "prompt_number": 11
    },
    {
     "cell_type": "markdown",
     "metadata": {},
     "source": "Randomly modify the current string to generate a selection of stochastic successor states for hill-climbing. If the difference value is greater than the length of the string, try adding or removing characters from the string. The greater the difference between the current state and target, the greater the degree of randomization in the successor states. This works on principles similar to simulated annealing, but gradually reduces the pool of successor states rather than reducing the level of tolerance in selecting a successor state. We generate a number of possible successors at each step proportional to the length of the target. Increasing this number would make each iteration run more slowly but would reduce the number of iterations taken before reaching a solution."
    },
    {
     "cell_type": "code",
     "collapsed": false,
     "input": "def get_randomized_successors( target, string, diff):\n    successors = []\n    if diff > len(target): # if the discrepancy is high, try adding and removing random characters to and from the string\n        successors.append(add_random_char(string))\n        successors.append(remove_random_char(string))\n    else:\n        chance = float(diff)/len(target) # the higher the discrepancy, the more randomized the successor states will be\n        for n in range(7*len(target)): # the number of states generated at each step\n            successors.append(randomize(string, chance))\n    return successors",
     "language": "python",
     "metadata": {},
     "outputs": [],
     "prompt_number": 12
    },
    {
     "cell_type": "markdown",
     "metadata": {},
     "source": "Swap the characters for two strings around a pivot index and return the two resulting strings in a list. This  crossover operation represents the breeding of two parent states to create two child states in the genetic algorithm."
    },
    {
     "cell_type": "code",
     "collapsed": false,
     "input": "def crossover ( string_0, string_1):\n    if len(string_0) == 0 or len(string_1) == 0: # do nothing with empty string\n        return [string_0, string_1]\n    elif len(string_0) < len(string_1): # select a random position in the smaller string\n        index = choice(range(len(string_0)))\n    else:\n        index = choice(range(len(string_1)))\n    return [string_0[:index] + string_1[index:], string_1[:index] + string_0[index:]]\n\nfor i in range(5):\n    print crossover(\"abcde\", \"def\"), #test",
     "language": "python",
     "metadata": {},
     "outputs": [
      {
       "output_type": "stream",
       "stream": "stdout",
       "text": "['def', 'abcde'] ['aef', 'dbcde'] ['abf', 'decde'] ['def', 'abcde'] ['aef', 'dbcde']\n"
      }
     ],
     "prompt_number": 13
    },
    {
     "cell_type": "markdown",
     "metadata": {},
     "source": "Randomly modify a character at a random position in a string. If the difference value is greater than the length of the string, try adding or removing characters from the string. The greater the difference between the current state and target, the greater the degree of environmental pressures causing evolutionary change through randomization in the successor states.  This mutation operation represents the spontaneous change in state that can occur in the genetic algorithm."
    },
    {
     "cell_type": "code",
     "collapsed": false,
     "input": "def mutate( target, string):\n    diff = get_diff(target, string)\n    if diff > len(target): # if the discrepancy is high, try adding and removing random characters to and from the string\n        if random() < 0.50: # 50/50 chance of adding or removing a character\n            string = add_random_char(string)\n        else:\n            string = remove_random_char(string)\n    elif random() < float(diff)/len(target): # the higher the discrepancy, the more randomized the successor states will be\n        string = change_random_char(string)\n    return string\n\nprint mutate(\"abcde\", \"abcd\") #test\nprint mutate(\"abcde\", \"defgh\") #test",
     "language": "python",
     "metadata": {},
     "outputs": [
      {
       "output_type": "stream",
       "stream": "stdout",
       "text": "bcd\ndefdh\n"
      }
     ],
     "prompt_number": 14
    },
    {
     "cell_type": "markdown",
     "metadata": {},
     "source": "Apply tournament selection to pick the best candidate from a pool of 7 randomly selected states. The candidate will then be used as a parent to breed children for the next generation in the genetic algorithm."
    },
    {
     "cell_type": "code",
     "collapsed": false,
     "input": "def get_parent( target, parents):\n    parent_pool = []\n    for i in range(7): # randomly select 7 potential parents\n        parent_pool.append(choice(parents)) # ignore duplicates, since there may be many as we approach the target\n    return get_best_successor(target, parent_pool)",
     "language": "python",
     "metadata": {},
     "outputs": [],
     "prompt_number": 15
    },
    {
     "cell_type": "markdown",
     "metadata": {},
     "source": "Randomly select a pair of states from a pool, and perform the crossover and mutation operations on them. This breeding of two parent states to create two child states simulates the exchange of genetic material and response to environmental pressures. We select parents using tournament selection and breed enough child pairs to maintain the size of the population in the next generation."
    },
    {
     "cell_type": "code",
     "collapsed": false,
     "input": "def get_bred_successors( target, parents):\n    children = []\n    for i in range(len(parents)/2): # the number of times to breed\n        parent_0 = get_parent(target, parents) # pick a 'father' parent by tournament selection\n        parent_1 = get_parent(target, parents) # pick a 'mother' parent by tournament selection\n        children.extend(crossover(parent_0, parent_1)) # create two children using crossover operation\n    for i, child in enumerate(children): # randomize children using mutation operation\n        children[i] = mutate(target, child)\n    return children\n\nprint get_bred_successors(\"abc\", [\"ab\", \"bcd\",\"a c\"]) #test",
     "language": "python",
     "metadata": {},
     "outputs": [
      {
       "output_type": "stream",
       "stream": "stdout",
       "text": "['g c', 'a c']\n"
      }
     ],
     "prompt_number": 16
    },
    {
     "cell_type": "markdown",
     "metadata": {},
     "source": "Implement the hill-climbing algorithm to generate a target string, starting from an empty string (though any other string could be used as a starting point). At each step, a selection of randomized successor states is generated, and the one closest to the target state is chosen. This successor state is then compared with the current state, and the one closest to the target state is chosen as the next state. The randomization factor is lessened over time to ensure that the string more quickly converges to the target. Due to the absolute nature of string matching, restarts are not required as the correct and optimal solution will always be reached using this randomized greedy approach.\n\n_*To make the algorithm complete in fewer iterations, start with a string of the same length as the target. Uncomment the print statement to see the string state at every step (the output is rather long)._"
    },
    {
     "cell_type": "code",
     "collapsed": false,
     "input": "def hillclimb( target):\n    string = \"\" # start with empty string\n    #string = get_random_string(len(target)) # start with a random string of the same length as the target\n    diff = get_diff(target, string)\n    while diff != 0: # check if the current string matches the target string\n        successor = get_best_successor(target, get_randomized_successors(target, string, diff)) # select a successor\n        diff_successor = get_diff(target, successor)\n        if diff_successor < diff: # if the successor is closer to the target, move to the successor\n            string = successor\n            diff = diff_successor\n        #print diff, successor, string, #trace\n    return string",
     "language": "python",
     "metadata": {},
     "outputs": [],
     "prompt_number": 17
    },
    {
     "cell_type": "markdown",
     "metadata": {},
     "source": "Implement the genetic algorithm to generate a target string, starting from a list of empty strings (though any other string could be used as a starting point). With each generation, the states that are closest to the target state survive and chosen as parents via tournament selection. Child successor states are generated using crossovers and mutations, which simulates the exchange and mutation of genetic information, and used to form the breeding pool for the next generation. The randomization factor is lessened over time to ensure that the string more quickly converges to the target. Due to the absolute nature of string matching, random injections of new parents into the gene pool are not required as the correct and optimal solution will always be reached using this randomized selective approach.\n\n_*To make the algorithm complete in fewer iterations, start with a list of strings of the same length as the target. Uncomment print statement to see the pool of parent strings at every step (the output is rather long)._"
    },
    {
     "cell_type": "code",
     "collapsed": false,
     "input": "def genetic_algorithm( target):\n    successors = []\n    if len(\"target\") == 0: # empty string case\n        return \"\"\n    for i in range(2*len(target)): # start with a population proportional to the target size\n        successors.append(\"\") # start with a list of empty strings\n    #    successors.append(get_random_string(len(target))) # start with a list of random strings of the same length as the target\n    diff = get_diff(target, get_best_successor(target, successors))\n    while diff != 0: # check if the best string in the current pool matches the target string\n        successors = get_bred_successors(target, successors) # breed successors to produce next generation\n        diff = get_diff(target, get_best_successor(target, successors))\n        #print diff, successors, #trace\n    return get_best_successor(target, successors)",
     "language": "python",
     "metadata": {},
     "outputs": [],
     "prompt_number": 18
    },
    {
     "cell_type": "markdown",
     "metadata": {},
     "source": "Test examples:"
    },
    {
     "cell_type": "code",
     "collapsed": false,
     "input": "target = \"methinks it is like a weasel\"\nprint \"Target: \" + str(target)\nprint \"Hill-Climbing: \" + str(hillclimb(target))\nprint \"Genetic Algorithm: \" + str(genetic_algorithm(target))\ntarget = \"artificial intelligence is fun\"\nprint \"Target: \" + str(target)\nprint \"Hill-Climbing: \" + str(hillclimb(target))\nprint \"Genetic Algorithm: \" + str(genetic_algorithm(target))",
     "language": "python",
     "metadata": {},
     "outputs": [
      {
       "output_type": "stream",
       "stream": "stdout",
       "text": "Target: methinks it is like a weasel\nHill-Climbing: methinks it is like a weasel"
      },
      {
       "output_type": "stream",
       "stream": "stdout",
       "text": "\nGenetic Algorithm: methinks it is like a weasel"
      },
      {
       "output_type": "stream",
       "stream": "stdout",
       "text": "\nTarget: artificial intelligence is fun\nHill-Climbing: artificial intelligence is fun"
      },
      {
       "output_type": "stream",
       "stream": "stdout",
       "text": "\nGenetic Algorithm: artificial intelligence is fun"
      },
      {
       "output_type": "stream",
       "stream": "stdout",
       "text": "\n"
      }
     ],
     "prompt_number": 19
    },
    {
     "cell_type": "markdown",
     "metadata": {},
     "source": "**Comments/observations/what I learned:**\n\nAs I mentioned in the class discussion forums, I implemented the algorithms in such a way that they can arrive at the target from any string of any length, with the empty string [\"\"] as the default starting point. Since it turned out that this was not a requirement, I have also included alternate statements that can be used to generate random strings of the same length as the target as the starting point for each algorithm, which would allow us to arrive at the solution in fewer iterations. The fitness evaluation function prioritizes matching the length of the string over the characters in the string. This allows us to first focus on matching the target length before focusing on matching each individual character in the target.\n\nThe greatest difficulty I encountered was similar to that in the previous assignment, in which we needed to balance exploration and exploitation. It took me some time to create a stochastic successor function for hill-climbing that randomized successor states adequately enough to approach the target state at a decent pace, but not so deeply as to prevent convergence on the target state. I solved this by adding a tolerance factor for randomness based upon the distance from the target, using a principle that was similar to simulated annealing but independent of time. I found that my implementation of the genetic algorithm arrived at the solution somewhat more quickly since the method for generating successor states did a good job of creating states that viably progressed toward the target state. When I examined the step-by-step iteration for each algorithm, it seemed like there were a lot of rejected candidate successor states. Increasing the number of successor states at each step to a higher number would reduce the number of iterations required to find successor states that are better than the current state, but would not actually make the program run any faster.\n\nIn a typical local search problem, we would be optimizing a value without a given target, as it would be infeasible to determine the global optimum. We would then want to periodically save the best candidate state and restart the search whenever a local optimum has been reached. Given more time, I would try to extend my implementation to work for other local search problems. I would also try to make the fitness calculation and successor generation functions better account for substring similarities to the target state. This would improve the selection of successor states, thereby reducing the number of iterations taken before arriving at a solution. The genetic algorithm should use an accumulated fitness function that takes into account the fitness of ancestor states."
    },
    {
     "cell_type": "code",
     "collapsed": false,
     "input": "",
     "language": "python",
     "metadata": {},
     "outputs": [],
     "prompt_number": 19
    }
   ],
   "metadata": {}
  }
 ]
}