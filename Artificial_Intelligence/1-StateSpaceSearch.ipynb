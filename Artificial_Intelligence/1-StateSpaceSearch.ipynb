{
 "metadata": {
  "name": "clai15_PR1"
 },
 "nbformat": 3,
 "nbformat_minor": 0,
 "worksheets": [
  {
   "cells": [
    {
     "cell_type": "markdown",
     "metadata": {},
     "source": "Module 1 - Programming Assignment\n=\nThis is the notebook for the Module 1 Programming Assignment.\n\nHere are a few tips for using the iPython HTML notebook:\n\n1.  You can use tab . Try le<&lt;tab> and see the available functions.\n2.  You can change the type of cell by picking \"Code\" or \"Markdown\" from the menu at the left.\n3.  If you keep typing in a Markdown text area, you will eventually get scroll bars. To prevent this, hit return when you come to\nthe end of the window. Only a double return creates a new paragraph.\n4.  You can find out more about Markdown text here: http://daringfireball.net/projects/markdown/ (Copy this link and put it \nin another tab for reference--Don't click it or you'll leave your notebook!).\n5.  Every so often, restart the kernel, clear all output and run all code cells so you can be certain that you didn't\ndefine something out of order.\n\n**You should rename this notebook to be &lt;your JHED id>\\_PR1.ipynb** Do it right now.\n\n**Make certain the entire notebook executes before you submit it.** (See Hint #5 above)\n\nChange the following variables:"
    },
    {
     "cell_type": "code",
     "collapsed": true,
     "input": "name = \"Christine Lai\"\njhed_id = \"clai15\"\nif name == \"Student Name\" or jhed_id == \"sname1\":\n    raise Exception( \"Change the name and/or JHED ID...preferrably to yours.\")",
     "language": "python",
     "metadata": {},
     "outputs": [],
     "prompt_number": 1
    },
    {
     "cell_type": "markdown",
     "metadata": {},
     "source": "Add whatever additional imports you require here. Stick with the standard libraries and those required by the class. The import\ngives you access to these functions: http://ipython.org/ipython-doc/stable/api/generated/IPython.core.display.html (Copy this link)\nWhich, among other things, will permit you to display HTML as the result of evaluated code (see HTML() or display_html())."
    },
    {
     "cell_type": "code",
     "collapsed": true,
     "input": "from IPython.core.display import *\nfrom StringIO import StringIO",
     "language": "python",
     "metadata": {},
     "outputs": [],
     "prompt_number": 2
    },
    {
     "cell_type": "markdown",
     "metadata": {},
     "source": "Search is often used for path-finding in video games. Even though the characters in a video game often move in continuous spaces,\nit is trivial to layout a \"waypoint\" system as a kind of navigation grid over the continuous space. Then if the character needs\nto get from Point A to Point B, it does a line of sight (LOS) scan to find the nearest waypoint (let's call it Waypoint A) and\nfinds the nearest, LOS waypoint to Point B (let's call it Waypoint B). The agent then does a A* search for Waypoint B from Waypoint A to find the shortest path. The entire path is thus Point A to Waypoint A to Waypoint B to Point B.\n\nWe're going to simplify the problem by working in a grid world. The symbols that form the grid have a special meaning as they\nspecify the type of the terrain and the cost to enter a grid cell with that type of terrain:\n\n<code>\ntoken   terrain    cost \n.       plains     1\n*       forest     3\n^       hills      5\n~       swamp      7\nx       mountains  impassible\n</code>\n\nWhen you go from a plains node to a forest node it costs 3. When you go\nfrom a forest node to a plains node, it costs 1. You can think of the grid as a big graph. Each grid cell (terrain symbol)\nis a node and there are edges to the north, south, east and west (except at the edges).\n\nThe agent starts in (0, 0) or the upper left hand cell and is looking for the lowest cost path to (26,26) which is\nin the lower right. Of course, your code should work for any start and stop coordinates on the map. You need to\nimplement A* search to get the agent from start to stop.\n\nThe \"world\" variable below has a blank line. In Python, triple quotes are used to define a multiline string."
    },
    {
     "cell_type": "code",
     "collapsed": false,
     "input": "world = \"\" #Moved to txt file",
     "language": "python",
     "metadata": {},
     "outputs": [],
     "prompt_number": 3
    },
    {
     "cell_type": "markdown",
     "metadata": {},
     "source": "An error is occurring with iPython that is cutting each line from the world string from 27 to 24 characters.\nThe string will be read from a 'world.txt' file instead."
    },
    {
     "cell_type": "code",
     "collapsed": true,
     "input": "with open('world.txt', 'r') as f:\n    world = [x for x in f.readlines()]\nf.closed",
     "language": "python",
     "metadata": {},
     "outputs": [
      {
       "metadata": {},
       "output_type": "pyout",
       "prompt_number": 4,
       "text": "True"
      }
     ],
     "prompt_number": 4
    },
    {
     "cell_type": "markdown",
     "metadata": {},
     "source": "First, we're going to convert the \"world\" into a map represented as a list of lists of character strings."
    },
    {
     "cell_type": "code",
     "collapsed": false,
     "input": "map = []\nfor line in world:\n    line = line.strip()\n    if line == \"\": continue\n    map.append([x for x in line])\nprint map\nmap_limit = len( map) - 1\nprint map_limit",
     "language": "python",
     "metadata": {},
     "outputs": [
      {
       "output_type": "stream",
       "stream": "stdout",
       "text": "[['.', '.', '.', '.', '.', '*', '*', '*', '*', '*', '*', '*', '*', '*', '*', '.', '.', '.', '.', '.', '.', '.', '.', '.', '.', '.', '.'], ['.', '.', '.', '.', '.', '.', '.', '*', '*', '*', '*', '*', '*', '*', '*', '*', '.', '.', 'x', 'x', 'x', 'x', 'x', 'x', 'x', '.', '.'], ['.', '.', '.', '.', 'x', 'x', '*', '*', '*', '*', '*', '*', '*', '*', '*', '*', '*', 'x', 'x', 'x', '^', '^', '^', 'x', 'x', '^', '^'], ['.', '.', '.', '.', '^', 'x', 'x', 'x', '*', '*', '*', '*', '~', '~', '*', '*', '*', '*', '*', '.', '.', '^', '^', 'x', 'x', '^', '.'], ['.', '.', '.', '^', '^', 'x', 'x', '*', '*', '.', '.', '~', '~', '~', '~', '*', '*', '*', '.', '.', '.', '^', 'x', 'x', 'x', '^', '.'], ['.', '^', '^', '^', 'x', 'x', '^', '^', '.', '.', '.', '.', '~', '~', '~', '~', '~', '.', '.', '.', '.', '.', '^', 'x', '^', '.', '.'], ['.', '^', '^', 'x', 'x', '^', '^', '.', '.', '.', '.', '^', 'x', 'x', 'x', '~', '~', '~', '.', '.', '.', '.', '.', '^', '.', '.', '.'], ['.', '.', '^', '^', '^', '^', '^', '.', '.', '.', '.', '.', '.', '^', 'x', 'x', 'x', '~', '~', '~', '.', '.', '^', '^', '^', '.', '.'], ['.', '.', '.', '^', '^', '^', '.', '.', '.', '.', '.', '.', '^', '^', 'x', 'x', '.', '~', '~', '.', '.', '^', '^', '^', '.', '.', '.'], ['.', '.', '.', '~', '~', '~', '.', '.', '^', '^', '^', 'x', 'x', 'x', 'x', '.', '.', '.', '~', '.', '^', '^', '^', '.', '.', '.', '.'], ['.', '.', '~', '~', '~', '~', '~', '.', '^', '^', 'x', 'x', 'x', '^', '.', '.', '.', '.', '.', '^', 'x', 'x', 'x', '^', '.', '.', '.'], ['.', '~', '~', '~', '~', '~', '.', '.', '^', 'x', 'x', '^', '.', '.', '.', '.', '~', '~', '.', '.', '^', 'x', 'x', '^', '.', '.', '.'], ['~', '~', '~', '~', '~', '.', '.', '^', '^', 'x', 'x', '^', '.', '~', '~', '~', '~', '.', '.', '.', '^', 'x', '^', '.', '.', '.', '.'], ['.', '~', '~', '~', '~', '.', '.', '^', '*', '*', '^', '.', '.', '.', '.', '~', '~', '~', '~', '.', '.', '^', '.', '.', '.', '.', '.'], ['.', '.', '.', '.', 'x', '.', '.', '*', '*', '*', '*', '^', '^', '^', '^', '.', '~', '~', '~', '.', '.', '^', 'x', '^', '.', '.', '.'], ['.', '.', '.', 'x', 'x', 'x', '*', '*', '*', '*', '*', '*', 'x', 'x', 'x', '^', '^', '.', '~', '.', '^', 'x', 'x', '^', '.', '.', '.'], ['.', '.', 'x', 'x', '*', '*', '*', '*', '*', '*', '*', '*', '*', '*', 'x', 'x', 'x', '.', '.', 'x', 'x', 'x', '.', '.', '.', '.', '.'], ['.', '.', '.', 'x', 'x', '*', '*', '*', '*', '*', '*', '*', '*', '*', '*', '*', 'x', 'x', 'x', 'x', '.', '.', '.', '.', '.', '.', '.'], ['.', '.', '.', 'x', 'x', 'x', '*', '*', '*', '*', '*', '*', '*', '*', '.', '.', '.', '^', '^', '.', '.', '.', '.', '.', '.', '.', '.'], ['.', '.', '.', '.', 'x', 'x', 'x', '*', '*', '*', '*', '*', '*', '.', '.', '.', '.', '.', '.', '.', '.', '.', '.', '~', '~', '~', '~'], ['.', '.', '^', '^', '^', '^', 'x', 'x', '*', '*', '*', '*', '*', '.', 'x', '.', '.', '.', '.', '.', '~', '~', '~', '~', '~', '~', '~'], ['.', '.', '.', '.', '^', '^', '^', 'x', 'x', 'x', '*', '*', 'x', 'x', '.', '.', '.', '.', '.', '.', '~', '~', '~', '~', '~', '~', '~'], ['.', '.', '.', '.', '.', '.', '^', '^', '^', 'x', 'x', 'x', 'x', '.', '.', '.', '.', '^', '^', '.', '.', '~', '~', '~', '~', '~', '~'], ['.', '^', '^', '.', '.', '^', '^', '^', '^', '^', '.', '.', '.', '.', '.', '^', '^', 'x', 'x', '^', '^', '.', '~', '~', '~', '~', '~'], ['^', 'x', '^', '^', '^', '^', '.', '.', '.', '.', '.', 'x', 'x', 'x', '^', '^', 'x', 'x', '.', 'x', 'x', '^', '^', '~', '~', '~', '~'], ['^', 'x', 'x', 'x', '^', '.', '.', '.', '.', '.', '^', '^', 'x', 'x', 'x', 'x', '^', '^', '^', '^', 'x', 'x', 'x', '~', '~', '~', '~'], ['^', '^', '.', '.', '.', '.', '.', '.', '.', '.', '.', '.', '^', '^', '^', '^', '^', '.', '.', '.', '.', '^', '^', '^', '.', '.', '.']]\n26\n"
      }
     ],
     "prompt_number": 5
    },
    {
     "cell_type": "markdown",
     "metadata": {},
     "source": "Next we create a dict of movement costs:"
    },
    {
     "cell_type": "code",
     "collapsed": false,
     "input": "print [len(x) for x in map]",
     "language": "python",
     "metadata": {},
     "outputs": [
      {
       "output_type": "stream",
       "stream": "stdout",
       "text": "[27, 27, 27, 27, 27, 27, 27, 27, 27, 27, 27, 27, 27, 27, 27, 27, 27, 27, 27, 27, 27, 27, 27, 27, 27, 27, 27]\n"
      }
     ],
     "prompt_number": 6
    },
    {
     "cell_type": "code",
     "collapsed": false,
     "input": "costs = { '.': 1, '*': 3, '^': 5, '~': 7}\ncosts",
     "language": "python",
     "metadata": {},
     "outputs": [
      {
       "metadata": {},
       "output_type": "pyout",
       "prompt_number": 7,
       "text": "{'*': 3, '.': 1, '^': 5, '~': 7}"
      }
     ],
     "prompt_number": 7
    },
    {
     "cell_type": "markdown",
     "metadata": {},
     "source": "and a list of offsets for neighbors:"
    },
    {
     "cell_type": "code",
     "collapsed": true,
     "input": "neighboring = [(0,-1), (1,0), (0,1), (-1,0)]",
     "language": "python",
     "metadata": {},
     "outputs": [],
     "prompt_number": 8
    },
    {
     "cell_type": "markdown",
     "metadata": {},
     "source": "Implement your code for A* search below. It should take the following form:\n\n<code>\n    def a_star_search( start, stop):\n</code>\n\nand return a list of coordinates starting at start and stopping at stop:\n\n[(0,0), (0,1), ...., (26, 26)]\n\nUse text and code cells to craft your program so that everything is explained and documented. The last code cell\nshould contain the a_star_search function (Don't put all of your code in one code cell with regular \"comments\"). Split\neverything up into well documented helper functions with Markdown text cells explaining how they work."
    },
    {
     "cell_type": "markdown",
     "metadata": {},
     "source": "Create a class to represent nodes in the grid. Nodes store the values of the known path cost and admissible heuristic, are printed as points in the form '(x, y)', and are compared using their x and y coordinates."
    },
    {
     "cell_type": "code",
     "collapsed": false,
     "input": "class Node:\n    def __init__(self, x, y):\n        self.x = x #x-coordinate\n        self.y = y #y-coordinate\n        self.g = 0 #g(n): known path cost value\n        self.h = 0 #h(n): admissible heuristic function value\n        self.parent = None\n    def __repr__(self):\n        return '(%i, %i)' % (self.x, self.y)\n    def __str__(self):\n        return '(%i, %i)' % (self.x, self.y)\n    def __eq__(self, other):\n        if self is None or other is None:\n            if self is None and other is None:\n                return True\n            else:\n                return False\n        else:\n            return self.x == other.x and self.y == other.y\n    def __ne__(self, other):\n        if self is None or other is None:\n            if self is None and other is not None or self is not None and other is None:\n                return True\n            else:\n                return False\n        else:\n            return self.x != other.x or self.y != other.y",
     "language": "python",
     "metadata": {},
     "outputs": [],
     "prompt_number": 9
    },
    {
     "cell_type": "markdown",
     "metadata": {},
     "source": "Return the token representing the type of node at an (x, y) location in the grid at map[y][x]:"
    },
    {
     "cell_type": "code",
     "collapsed": false,
     "input": "def node_type(node):\n    return map[node.y][node.x]",
     "language": "python",
     "metadata": {},
     "outputs": [],
     "prompt_number": 10
    },
    {
     "cell_type": "markdown",
     "metadata": {},
     "source": "Return the cost of moving to a node at an (x, y) location in the grid:"
    },
    {
     "cell_type": "code",
     "collapsed": false,
     "input": "def node_cost(node):\n    return costs[node_type(node)]",
     "language": "python",
     "metadata": {},
     "outputs": [],
     "prompt_number": 11
    },
    {
     "cell_type": "markdown",
     "metadata": {},
     "source": "Return the known path cost for a node neighboring the current node:"
    },
    {
     "cell_type": "code",
     "collapsed": false,
     "input": "def g(node, neighbor):\n    return node.g + node_cost(neighbor)",
     "language": "python",
     "metadata": {},
     "outputs": [],
     "prompt_number": 12
    },
    {
     "cell_type": "markdown",
     "metadata": {},
     "source": "Return the admissible heuristic for a node as the Manhattan distance to the goal:"
    },
    {
     "cell_type": "code",
     "collapsed": false,
     "input": "def h(node, goal):\n    return abs(goal.x-node.x) + abs(goal.y-node.y)",
     "language": "python",
     "metadata": {},
     "outputs": [],
     "prompt_number": 13
    },
    {
     "cell_type": "markdown",
     "metadata": {},
     "source": "Return the value of the known path cost plus admissible heuristic for the A\\* search algorithm:"
    },
    {
     "cell_type": "code",
     "collapsed": false,
     "input": "def f(node):\n    return node.g + node.h",
     "language": "python",
     "metadata": {},
     "outputs": [],
     "prompt_number": 14
    },
    {
     "cell_type": "markdown",
     "metadata": {},
     "source": "Check whether a node is contained in a list of nodes:"
    },
    {
     "cell_type": "code",
     "collapsed": false,
     "input": "def isContained(node, node_list):\n    for l_node in node_list:\n        if node == l_node:\n            return True\n    return False",
     "language": "python",
     "metadata": {},
     "outputs": [],
     "prompt_number": 15
    },
    {
     "cell_type": "markdown",
     "metadata": {},
     "source": "Return the index of a node in a list of nodes:"
    },
    {
     "cell_type": "code",
     "collapsed": false,
     "input": "def indexOf(node, node_list):\n    return node_list.index(node)",
     "language": "python",
     "metadata": {},
     "outputs": [],
     "prompt_number": 16
    },
    {
     "cell_type": "markdown",
     "metadata": {},
     "source": "Check whether a node is passable:"
    },
    {
     "cell_type": "code",
     "collapsed": false,
     "input": "def isPassable(node):\n    return node_type(node) != 'x' #mountains",
     "language": "python",
     "metadata": {},
     "outputs": [],
     "prompt_number": 17
    },
    {
     "cell_type": "markdown",
     "metadata": {},
     "source": "Check whether a node is within the boundaries of the map:"
    },
    {
     "cell_type": "code",
     "collapsed": false,
     "input": "def isInBounds(node):\n    return node.x >= 0 and node.x <= map_limit and node.y >= 0 and node.y <= map_limit",
     "language": "python",
     "metadata": {},
     "outputs": [],
     "prompt_number": 18
    },
    {
     "cell_type": "markdown",
     "metadata": {},
     "source": "Retrace and return path from explored nodes:"
    },
    {
     "cell_type": "code",
     "collapsed": false,
     "input": "def getPath(explored):\n    path = []\n    node = explored[-1] #start from last explored node\n    while (node != None):\n        path.insert(0, node)\n        node = node.parent\n    return path",
     "language": "python",
     "metadata": {},
     "outputs": [],
     "prompt_number": 19
    },
    {
     "cell_type": "markdown",
     "metadata": {},
     "source": "Perform an iteration of the A\\* search."
    },
    {
     "cell_type": "code",
     "collapsed": false,
     "input": "def a_star_next(node, goal, explored, frontier):\n    for direction in neighboring: #check four neighboring nodes\n        neighbor = Node(node.x + direction[0], node.y + direction[1])\n        if isInBounds(neighbor):\n            if isPassable(neighbor):\n                if not isContained(neighbor, explored): #check if node has already been explored\n                    g_neighbor = g(node, neighbor)\n                    h_neighbor = h(neighbor, goal)\n                    if not isContained(neighbor, frontier): #check if node is already in frontier\n                        neighbor.g = g_neighbor\n                        neighbor.h = h_neighbor\n                        neighbor.parent = node\n                        frontier.append(neighbor) #add node to frontier\n                    else:\n                        index = indexOf(neighbor, frontier) #index of node already in frontier\n                        if g_neighbor < frontier[index].g: #check for lower cost for node already in frontier\n                            frontier[index].g = g_neighbor\n                            frontier[index].h = h_neighbor\n                            frontier[index].parent = node\n    frontier.sort(key=f)\n    return frontier",
     "language": "python",
     "metadata": {},
     "outputs": [],
     "prompt_number": 20
    },
    {
     "cell_type": "markdown",
     "metadata": {},
     "source": "Perform the A\\* search.\nFirst, add the start node to the path. Then check for passable neighboring nodes and move to the one with the lowest known path cost plus admissible heuristic function value. Repeat this process until the stop node is reached. Finally, retrace and return the path from the explored nodes. If no passable path is found, return an error message."
    },
    {
     "cell_type": "code",
     "collapsed": false,
     "input": "def a_star_search(start, stop):\n    explored = [] #explored nodes\n    frontier = [] #priority queue of frontier nodes\n    node = Node(start[0],start[1]) #set stop node to current node\n    if not isPassable(node):\n        return \"Error: Start node is impassable. Please enter a passable node.\"\n    goal = Node(stop[0],stop[1]) #set start node to goal node\n    if not isPassable(goal):\n        return \"Error: Stop node is impassable. Please enter a passable node.\"\n    node.h = h(node,goal)\n    explored.append(node) #add first node to explored nodes\n    while (node != goal):\n        frontier = a_star_next(node, goal, explored, frontier)\n        if frontier == []: #check if frontier is empty\n            return \"Error: No passable path found.\"\n        node = frontier.pop(0) #move to highest priority node in frontier\n        explored.append(node) #add node to explored nodes\n    return getPath(explored) #retrieve and return path from explored nodes",
     "language": "python",
     "metadata": {},
     "outputs": [],
     "prompt_number": 21
    },
    {
     "cell_type": "markdown",
     "metadata": {},
     "source": "Run an A\\* search on the grid:"
    },
    {
     "cell_type": "code",
     "collapsed": false,
     "input": "def main():\n    start = (0,0)\n    stop = (26,26)\n    print a_star_search(start, stop)\nif __name__ == '__main__':\n    main()",
     "language": "python",
     "metadata": {},
     "outputs": [
      {
       "output_type": "stream",
       "stream": "stdout",
       "text": "[(0, 0), (0, 1), (0, 2), (0, 3), (0, 4), (0, 5), (0, 6), (0, 7), (0, 8), (0, 9), (0, 10), (0, 11), (0, 12), (0, 13), (0, 14), (1, 14), (1, 15), (1, 16), (1, 17), (1, 18), (1, 19), (1, 20), (1, 21), (2, 21), (3, 21), (3, 22), (4, 22), (5, 22), (6, 22), (6, 23), (6, 24), (7, 24), (8, 24), (9, 24), (9, 25), (9, 26), (10, 26), (11, 26), (12, 26), (13, 26), (14, 26), (15, 26), (16, 26), (17, 26), (18, 26), (19, 26), (20, 26), (21, 26), (22, 26), (23, 26), (24, 26), (25, 26), (26, 26)]\n"
      }
     ],
     "prompt_number": 22
    },
    {
     "cell_type": "code",
     "collapsed": false,
     "input": "",
     "language": "python",
     "metadata": {},
     "outputs": [],
     "prompt_number": 22
    }
   ],
   "metadata": {}
  }
 ]
}