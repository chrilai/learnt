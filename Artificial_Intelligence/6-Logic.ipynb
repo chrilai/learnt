{
 "metadata": {
  "name": "clai15_PR6"
 },
 "nbformat": 3,
 "nbformat_minor": 0,
 "worksheets": [
  {
   "cells": [
    {
     "cell_type": "markdown",
     "metadata": {},
     "source": "Module 6 - Programming Assignment\n=\nThis is the notebook for the Module 6 Programming Assignment.\n\nHere are a few tips for using the iPython HTML notebook:\n\n1.  You can use tab . Try le<&lt;tab> and see the available functions.\n2.  You can change the type of cell by picking \"Code\" or \"Markdown\" from the menu at the left.\n3.  If you keep typing in a Markdown text area, you will eventually get scroll bars. To prevent this, hit return when you come to\nthe end of the window. Only a double return creates a new paragraph.\n4.  You can find out more about Markdown text here: http://daringfireball.net/projects/markdown/ (Copy this link and put it \nin another tab for reference--Don't click it or you'll leave your notebook!).\n5.  Every so often, restart the kernel, clear all output and run all code cells so you can be certain that you didn't\ndefine something out of order.\n\n**You should rename this notebook to be &lt;your JHED id>_PR6\\.ipynb** Do it right now.\n\n**Make certain the entire notebook executes before you submit it.** (See Hint #5 above)\n\nChange the following variables:"
    },
    {
     "cell_type": "code",
     "collapsed": true,
     "input": "name = \"Christine Lai\"\njhed_id = \"clai15\"\nif name == \"Student Name\" or jhed_id == \"sname1\":\n    raise Exception( \"Change the name and/or JHED ID...preferrably to yours.\")",
     "language": "python",
     "metadata": {},
     "outputs": [],
     "prompt_number": 1
    },
    {
     "cell_type": "markdown",
     "metadata": {},
     "source": "Add whatever additional imports you require here. Stick with the standard libraries and those required by the class. The import\ngives you access to these functions: http://ipython.org/ipython-doc/stable/api/generated/IPython.core.display.html (Copy this link)\nWhich, among other things, will permit you to display HTML as the result of evaluated code (see HTML() or display_html())."
    },
    {
     "cell_type": "code",
     "collapsed": true,
     "input": "from IPython.core.display import *\nfrom StringIO import StringIO\nfrom copy import deepcopy",
     "language": "python",
     "metadata": {},
     "outputs": [],
     "prompt_number": 2
    },
    {
     "cell_type": "markdown",
     "metadata": {},
     "source": "For this assignment you're going to implement the unification algorithm. You will need this for a future module.\n\nHere is imperative pseudocode for the algorithm:\n\n<pre>\ndef unify( exp1, exp2):\n\t# base cases    \n\tif exp1 and exp2 are constants or the empty list:        \n\t\tif exp1 = exp2 then return {}        \n\t\telse return FAIL    \n\tif exp1 is a variable:        \n\t\tif exp1 occurs in exp2 then return FAIL        \n\t\telse return {exp1/exp2}    \n\tif exp2 is a variable:        \n\t\tif exp2 occurs in exp1 then return FAIL        \n\t\telse return {exp2/exp1}\t    \n\t# induction\n\tfirst1 = first element of exp1    \n\tfirst2 = first element of exp2    \n\tresult1 = unify( first1, first2)    \n\tif result1 = FAIL then return FAIL\t\n\tapply result1 to rest of exp1 and exp2    \n\tresult2 = unify( rest of exp1, rest of exp2)    \n\tif result2 = FAIL then return FAIL    \n\treturn composition of result1 and result2\n</pre>\n\nunify can return fail, {} (the empty substitution list) or a substitution list.\n\nIt make sense in a language like Python to create types (classes) for the different literals: constants, variables, and expressions. Below is a general schematic of a type in Python:"
    },
    {
     "cell_type": "code",
     "collapsed": false,
     "input": "class Foo(object): # inheriting from object -- lowercase -- is required for \"new style classes\" in Python.\n    def __init__(self, a, b):\n        self.a = a\n        self.b = b\n    def __str__(self): # __str__() is what happens when you call str( instance_of_Foo)\n        return \"Foo(%s, %s)\" % (self.a, self.b) # -- make sure you always reference fields as self.field_name or you will have errors.\n    \nf = Foo( \"hi\", \"there\")\nprint f\n\nclass Bar( Foo):\n    def __init__(self, a, b, c, d):\n        super( Bar, self).__init__(a, b)\n        self.c = c\n        self.d = d\n    def __str__(self):\n        return \"Bar(%s, %s, %s, %s)\" % (self.a, self.b, self.c, self.d)\n\nb = Bar (\"hi\", \"there\", \"from\", \"python\")\nprint b",
     "language": "python",
     "metadata": {},
     "outputs": [
      {
       "output_type": "stream",
       "stream": "stdout",
       "text": "Foo(hi, there)\nBar(hi, there, from, python)\n"
      }
     ],
     "prompt_number": 3
    },
    {
     "cell_type": "markdown",
     "metadata": {},
     "source": "There are a few more details and hints...\n\n<code>\nisinstance( x, Bar)\n</code>\n\nreturns true if x is an instance of Bar.\n\nNone is Python's version of null or nil in other languages and can be used for fail.\n\nYou can represent an expression as a List of expressions, variables and constants (or as a field in an Expression type that is a List):\n\n<code>\n    likes(Bill, Sam)\n    father( X, Sam)\n</code>\n\ncan be written as:\n\n<code>\n    [\"likes\" \"Bill\" \"Sam\"]\n    [\"father\" \"X\" \"Sam\"]\n</code>\n\nbut with types it would be:\n\n<code>\n    [Constant(\"likes\"), Constant(\"Bill\"), Constant( \"Sam\")]\n    [Constant(\"father\"), Variable(\"X\"), Constant(\"Sam\")]\n</code>\n\nthese can, of course, be nested. This means that all of your test cases would need to be written literally, perhaps as Expression( [Constant(\"likes\"), Constant(\"Bill\"), Constant( \"Sam\")]) and not as \"likes(Bill, Sam)\", for example.\n\nHowever, you may, for __extra credit__, implement a simple parser so that you can write:\n\n<code>\n    unify( parse( \"likes(Bill, x)\"), parse( \"likes(y, Sam)\"))\n</code>\n\nMy suggestion would be to use s-expressions (like Lisp):\n\n<code>\n    unify( parse( \"(likes Bill x)\"), parse( \"(likes y Sam)\"))\n</code>\n\nThere are several possible conventions for identifying variables: single letters, uppercase letters, lowercase letters or sequence of letters preceded by ?. I think the last one is the most sensible and flexible:\n\n<code>\n    unify( parse( \"(likes Bill ?x)\"), parse( \"(likes ?y Sam)\"))\n</code>\n\nMake sure you have the assignment working before embarking on the extra credit. Show 10 examples of the unify() algorithm being called. 5 with it succeeding and 5 with it failing. They should all be syntactically different (that is, I shouldn't be able to substitute names, for example, \"hate\" for \"like\" and have it be the same example).\n\nI will test your code with my own examples."
    },
    {
     "cell_type": "markdown",
     "metadata": {},
     "source": "Put all of your functions, objects and documentation below here."
    },
    {
     "cell_type": "markdown",
     "metadata": {},
     "source": "Create a class to represent a constant value. This will be used to identify the types of items in a list representing an expression."
    },
    {
     "cell_type": "code",
     "collapsed": false,
     "input": "class Constant(object):\n    def __init__(self, x):\n        self.x = x\n    def __eq__(self, other):\n        if not isinstance(other, Constant):\n            return False\n        else:\n            return self.x == other.x\n    def  __hash__(self):\n        return self.x.__hash__()\n    def __iter__(self):\n        return iter([self])\n    def __repr__(self):\n        return 'Constant(\"%s\")' % self.x\n\nprint Constant(\"constant\") #test",
     "language": "python",
     "metadata": {},
     "outputs": [
      {
       "output_type": "stream",
       "stream": "stdout",
       "text": "Constant(\"constant\")\n"
      }
     ],
     "prompt_number": 4
    },
    {
     "cell_type": "markdown",
     "metadata": {},
     "source": "Create a class to represent a variable. This will be used to identify the types of items in a list representing an expression."
    },
    {
     "cell_type": "code",
     "collapsed": false,
     "input": "class Variable(object):\n    def __init__(self, x):\n        self.x = x\n    def __eq__(self, other):\n        if not isinstance(other, Variable):\n            return False\n        else:\n            return self.x == other.x\n    def  __hash__(self):\n        return self.x.__hash__()\n    def __iter__(self):\n        return iter([self])\n    def __repr__(self):\n        return 'Variable(\"%s\")' % self.x\n    \nprint Variable(\"x\") #test",
     "language": "python",
     "metadata": {},
     "outputs": [
      {
       "output_type": "stream",
       "stream": "stdout",
       "text": "Variable(\"x\")\n"
      }
     ],
     "prompt_number": 5
    },
    {
     "cell_type": "markdown",
     "metadata": {},
     "source": "Splits an expression into a list using whitespace as a delimiter. The outermost parentheses are removed. Any other open or closed parenthesis are added as separate items in the list. This is used to parse an expression into a form that is more easily handled in the implementation of the unification algorithm below."
    },
    {
     "cell_type": "code",
     "collapsed": false,
     "input": "def parse_split(string):\n    str_list = []\n    for sub_str in string.split(): # check each substring\n        str_item = \"\"\n        for char in sub_str: # check each character in substring\n            if char == '(' or char == ')': # append parentheses as separate items\n                if len(str_item) > 0: # append existing substring\n                    str_list.append(str_item)\n                    str_item = \"\"\n                str_list.append(char)\n            else:\n                str_item += char\n        if len(str_item) > 0: # append existing substring\n            str_list.append(str_item)\n            str_item = \"\"\n    return str_list\n\nprint parse_split(\"(a)\") #test\nprint parse_split(\"(g (f ?x (f ?x ?y)) ?x)\") #test",
     "language": "python",
     "metadata": {},
     "outputs": [
      {
       "output_type": "stream",
       "stream": "stdout",
       "text": "['(', 'a', ')']\n['(', 'g', '(', 'f', '?x', '(', 'f', '?x', '?y', ')', ')', '?x', ')']\n"
      }
     ],
     "prompt_number": 6
    },
    {
     "cell_type": "markdown",
     "metadata": {},
     "source": "Helper function to retrieve the last expression stored at the end of a list stack."
    },
    {
     "cell_type": "code",
     "collapsed": false,
     "input": "def get_sub_exp(stack):\n    sub_exp = []\n    prev_str = stack.pop(-1) # pop item from end of stack\n    while (prev_str != '('):\n        sub_exp.insert(0, prev_str) # add popped item to sub-expression\n        prev_str = stack.pop(-1)\n    return sub_exp\n\nprint get_sub_exp(['(', 'a', '(', 'abc', 'def']) #test",
     "language": "python",
     "metadata": {},
     "outputs": [
      {
       "output_type": "stream",
       "stream": "stdout",
       "text": "['abc', 'def']\n"
      }
     ],
     "prompt_number": 7
    },
    {
     "cell_type": "markdown",
     "metadata": {},
     "source": "Parse a string expression that is bracketed by parenthesis. Variables are marked with a '?' as the first character, while all other strings are accepted as constant values (if needed, we could add limitations to make predicates lowercase and constants uppercase). Return a Constant, Variable, or a list representation of the expression containing Constant and Variable objects. This allows for simpler formatting of expressions to be entered into the unity algorithm."
    },
    {
     "cell_type": "code",
     "collapsed": false,
     "input": "def parse(exp):\n    if isinstance(exp, str): # if input is a string, split it into a list with whitespace and extracted parentheses as delimiters\n        exp = parse_split(exp)\n    exp_list = [] # list containing the parsed expression\n    stack = [] # stack holding the items in each parenthesis\n    for item in exp:\n        if item == '(': # if item is an open parenthesis\n            stack.append(item) # add open parenthesis to end of stack\n        elif item == ')': # if item is a close parenthesis\n            sub_exp = get_sub_exp(stack) # retrieve the last expression stored on the stack\n            if len(stack) > 0: # if there are still items on the stack, append parsed sub-expression to end of stack\n                stack.append(parse(sub_exp))\n            else:  # otherwise, append parsed sub-expression to end of result\n                exp_list.append(parse(sub_exp))\n        elif len(stack) > 0: # if there are items on the stack, parenthesis is still open\n            stack.append(item) # add item to stack\n        elif isinstance(item, list): # if the item is a list, add it to the result\n            exp_list.append(item)\n        elif item[0] == '?': # if the item starts with a question mark, add it to the result as a variable\n            exp_list.append(Variable(item[1:]))\n        else: # otherwise, add the item to the result as a constant\n            exp_list.append(Constant(item)) \n    if isinstance(exp_list, list): # if the list contains one item, trim the outer brackets\n        if len(exp_list) == 1:\n            exp_list = exp_list[0]\n    return exp_list\n\nprint parse(\"(a)\") #test\nprint parse(\"(g (f ?x (f ?x ?y)) ?x)\") #test",
     "language": "python",
     "metadata": {},
     "outputs": [
      {
       "output_type": "stream",
       "stream": "stdout",
       "text": "Constant(\"a\")\n[Constant(\"g\"), [Constant(\"f\"), Variable(\"x\"), [Constant(\"f\"), Variable(\"x\"), Variable(\"y\")]], Variable(\"x\")]\n"
      }
     ],
     "prompt_number": 8
    },
    {
     "cell_type": "markdown",
     "metadata": {},
     "source": "Helper function to return the first element in a list, or return an empty list."
    },
    {
     "cell_type": "code",
     "collapsed": false,
     "input": "def get_first(exp):\n    if exp == []:\n        return []\n    else:\n        return exp[0]\n    \nprint get_first(['a','b','c']) #test",
     "language": "python",
     "metadata": {},
     "outputs": [
      {
       "output_type": "stream",
       "stream": "stdout",
       "text": "a\n"
      }
     ],
     "prompt_number": 9
    },
    {
     "cell_type": "markdown",
     "metadata": {},
     "source": "Replace any items in an expression that are mapped to values in the given substitution list. This is used to apply the result from each induction step to the next iteration of the unification algorithm."
    },
    {
     "cell_type": "code",
     "collapsed": false,
     "input": "def substitute(expression, substitution_list):\n    new_expression = deepcopy(expression)\n    for index, item in enumerate(expression):\n        if isinstance(item, Variable) and item in substitution_list.keys():\n            new_expression[index] = substitution_list[item]\n        elif isinstance(item, list):\n            new_expression[index] = substitute(item, substitution_list)\n    return new_expression\n\nexpression = [Constant(\"f\"), [Constant(\"f\"), Variable(\"x\")]]\nsubstitution_list = {Variable(\"x\"):Constant(\"a\")}\nprint substitute(expression, substitution_list) #test",
     "language": "python",
     "metadata": {},
     "outputs": [
      {
       "output_type": "stream",
       "stream": "stdout",
       "text": "[Constant(\"f\"), [Constant(\"f\"), Constant(\"a\")]]\n"
      }
     ],
     "prompt_number": 10
    },
    {
     "cell_type": "markdown",
     "metadata": {},
     "source": "Apply the unification algorithm (as described in the pseudocode at the top of the page) on a pair of expressions to see if there is a set of substitutions that can make them equivalent. Each expression is represented as a list of constants and variables. First, check to see whether the base cases in which both expressions are constants or empty lists, or in which one expression is a variable, can be applied to return a result. Otherwise, extract the first item in each expression and unify them to produce an initial result, then apply induction on the remainder of each expression and the initial result. The resulting substitution list is returned as a dict of expression/variable keys mapped to expression/variable/constant values."
    },
    {
     "cell_type": "code",
     "collapsed": false,
     "input": "def unify(exp_0, exp_1):\n    # base cases\n    if (isinstance(exp_0, Constant) or exp_0 == []) and \\\n       (isinstance(exp_1, Constant) or exp_1 == []): # if both expressions are either constants or empty\n        if exp_0 == exp_1: # if the expressions are equal, no unification is required\n            return {}\n        return 'FAIL'\n    elif isinstance(exp_0, Variable): # if the first expression is a variable\n        if exp_0 in exp_1:\n            return 'FAIL'\n        return {exp_0:exp_1}\n    elif isinstance(exp_1, Variable): # if the second expression is a variable\n        if exp_1 in exp_0:\n            return 'FAIL'\n        return {exp_1:exp_0}\n\t# induction\n    first_0 = get_first(exp_0) # the first element of the first expression\n    first_1 = get_first(exp_1) # the first element of the second expression\n    result_0 = unify(first_0, first_1) # unify first element of each expression\n    if result_0 == 'FAIL':\n        return 'FAIL'\n    result_1 = unify(substitute(exp_0[1:],result_0), substitute(exp_1[1:],result_0)) # apply result and unify rest of expressions\n    if result_1 == 'FAIL':\n        return 'FAIL'\n    return dict(result_0.items() + result_1.items())",
     "language": "python",
     "metadata": {},
     "outputs": [],
     "prompt_number": 11
    },
    {
     "cell_type": "code",
     "collapsed": false,
     "input": "# Test Cases\nprint 'Case 0: unify((), ())'\n#print unify([], [])\nprint unify(parse(\"()\"),parse(\"()\"))\nprint 'Case 1: unify((), (a))'\n#print unify([], Constant(\"a\"))\nprint unify(parse(\"()\"),parse(\"(a)\"))\nprint 'Case 2: unify((a), (a)))'\n#print unify(Constant(\"a\"), Constant(\"a\"))\nprint unify(parse(\"(a)\"), parse(\"(a)\"))\nprint 'Case 3: unify((a), (b)))'\n#print unify(Constant(\"a\"), Constant(\"b\"))\nprint unify(parse(\"(a)\"), parse(\"(b)\"))\nprint 'Case 4: unify((?x), (a))'\n#print unify(Variable(\"x\"), Constant(\"a\"))\nprint unify(parse(\"(?x)\"), parse(\"(a)\"))\nprint 'Case 5: unify((a), (?x))'\n#print unify(Constant(\"a\"), Variable(\"x\"))\nprint unify(parse(\"(a)\"), parse(\"(?x)\"))\nprint 'Case 6: unify((?x), (a b))'\n#print unify(Variable(\"x\"), [Constant(\"a\"), Constant(\"b\")])\nprint unify(parse(\"(?x)\"), parse(\"(a b)\"))\nprint 'Case 7: unify((?x), (?x a))'\n#print unify(Variable(\"x\"), [Variable(\"x\"), Constant(\"a\")])\nprint unify(parse(\"(?x)\"), parse(\"(?x a)\"))\nprint 'Case 8: unify((?x a), (?x a))'\n#print unify([Variable(\"x\"), Constant(\"a\")],[Variable(\"x\"), Constant(\"a\")])\nprint unify(parse(\"(?x a)\"), parse(\"(?x a)\"))\nprint 'Case 9: unify((?x ?x), (a a))'\n#print unify([Variable(\"x\"), Variable(\"x\")], [Constant(\"a\"), Constant(\"a\")])\nprint unify(parse(\"(?x ?x)\"), parse(\"(a a)\"))\nprint 'Case 10: unify((?x ?x), (a b))'\n#print unify([Variable(\"x\"), Variable(\"x\")], [Constant(\"a\"), Constant(\"b\")])\nprint unify(parse(\"(?x ?x)\"), parse(\"(a b)\"))\nprint 'Case 11: unify((?x ?y), (a a))'\n#print unify([Variable(\"x\"), Variable(\"y\")], [Constant(\"a\"), Constant(\"a\")])\nprint unify(parse(\"(?x ?y)\"), parse(\"(a a)\"))\nprint 'Case 12: unify((a ?y), (?x b))'\n#print unify([Constant(\"a\"), Variable(\"y\")],[Variable(\"x\"), Constant(\"b\")])\nprint unify(parse(\"(a ?y)\"), parse(\"(?x b)\"))\nprint 'Case 13: unify((?x ?x), (?y a))'\n#print unify([Variable(\"x\"), Variable(\"x\")], [Variable(\"y\"), Constant(\"a\")])\nprint unify(parse(\"(?x ?x)\"), parse(\"(?y a)\"))\nprint 'Case 14: unify((?x a), (?y b))'\n#print unify([Variable(\"x\"), Constant(\"a\")], [Variable(\"y\"), Constant(\"b\")])\nprint unify(parse(\"(?x a)\"), parse(\"(?y b)\"))\nprint 'Case 15: unify((f (f ?x)), (f (f a)))'\n#print unify([Constant(\"f\"), [Constant(\"f\"), Variable(\"x\")]], [Constant(\"f\"), [Constant(\"f\"), Constant(\"a\")]])\nprint unify(parse(\"(f (f ?x))\"), parse(\"(f (f a))\"))\nprint 'Case 16: unify((f (f ?x)), (g (f a)))'\n#print unify([Constant(\"f\"), [Constant(\"f\"), Variable(\"x\")]], [Constant(\"g\"), [Constant(\"f\"), Constant(\"a\")]])\nprint unify(parse(\"(f (f ?x))\"), parse(\"(g (f a))\"))\nprint 'Case 17: unify((f (f ?x)), (f (g a)))'\n#print unify([Constant(\"f\"), [Constant(\"f\"), Variable(\"x\")]], [Constant(\"f\"), [Constant(\"g\"), Constant(\"a\")]])\nprint unify(parse(\"(f (f ?x))\"), parse(\"(f (g a))\"))\nprint 'Case 18: unify((g (f ?x (f ?x b)) a), (g (f a (f ?x ?y)) ?x))'\n#print unify([Constant(\"g\"), [Constant(\"f\"), Variable(\"x\"), [Constant(\"f\"), Variable(\"x\"), Constant(\"b\")]], Constant(\"a\")], \n#            [Constant(\"g\"), [Constant(\"f\"), Constant(\"a\"), [Constant(\"f\"), Variable(\"x\"), Variable(\"y\")]], Variable(\"x\")])\nprint unify(parse(\"(g (f ?x (f ?x b)) a)\"), parse(\"(g (f a (f ?x ?y)) ?x)\"))\nprint 'Case 19: unify((g (f ?x (f ?x b)) a), (g (f a (f ?x)) ?x))'\n#print unify([Constant(\"g\"), [Constant(\"f\"), Variable(\"x\"), [Constant(\"f\"), Variable(\"x\"), Constant(\"b\")]], Constant(\"a\")], \n#            [Constant(\"g\"), [Constant(\"f\"), Constant(\"a\"), [Constant(\"f\"), Variable(\"x\")]], Variable(\"x\")])\nprint unify(parse(\"(g (f ?x (f ?x b)) a)\"), parse(\"(g (f a (f ?x)) ?x)\"))",
     "language": "python",
     "metadata": {},
     "outputs": [
      {
       "output_type": "stream",
       "stream": "stdout",
       "text": "Case 0: unify((), ())\n{}\nCase 1: unify((), (a))\nFAIL\nCase 2: unify((a), (a)))\n{}\nCase 3: unify((a), (b)))\nFAIL\nCase 4: unify((?x), (a))\n{Variable(\"x\"): Constant(\"a\")}\nCase 5: unify((a), (?x))\n{Variable(\"x\"): Constant(\"a\")}\nCase 6: unify((?x), (a b))\n{Variable(\"x\"): [Constant(\"a\"), Constant(\"b\")]}\nCase 7: unify((?x), (?x a))\nFAIL\nCase 8: unify((?x a), (?x a))\nFAIL\nCase 9: unify((?x ?x), (a a))\n{Variable(\"x\"): Constant(\"a\")}\nCase 10: unify((?x ?x), (a b))\nFAIL\nCase 11: unify((?x ?y), (a a))\n{Variable(\"y\"): Constant(\"a\"), Variable(\"x\"): Constant(\"a\")}\nCase 12: unify((a ?y), (?x b))\n{Variable(\"y\"): Constant(\"b\"), Variable(\"x\"): Constant(\"a\")}\nCase 13: unify((?x ?x), (?y a))\n{Variable(\"y\"): Constant(\"a\"), Variable(\"x\"): Variable(\"y\")}\nCase 14: unify((?x a), (?y b))\nFAIL\nCase 15: unify((f (f ?x)), (f (f a)))\n{Variable(\"x\"): Constant(\"a\")}\nCase 16: unify((f (f ?x)), (g (f a)))\nFAIL\nCase 17: unify((f (f ?x)), (f (g a)))\nFAIL\nCase 18: unify((g (f ?x (f ?x b)) a), (g (f a (f ?x ?y)) ?x))\n{Variable(\"y\"): Constant(\"b\"), Variable(\"x\"): Constant(\"a\")}\nCase 19: unify((g (f ?x (f ?x b)) a), (g (f a (f ?x)) ?x))\nFAIL\n"
      }
     ],
     "prompt_number": 12
    },
    {
     "cell_type": "markdown",
     "metadata": {},
     "source": "**Comments/Observations/What I Learned:**\n\nIn this implementation of the unification algorithm, each expression is represented as a list of Variables, Constants, and subexpressions. I created classes to represent the Constants and Variables. The resulting substitution list is returned as a dict mapping subexpressions and Variables to subexpressions, Variables, and Constants. One thing I learned while coding this was that in order for the objects to be recognized as keys in the dict, they had to be hashed by the string they contained rather than the default hash, which was their object instance ID.\n\nAt first, I was having trouble following the pseudocode for the unification algorithm due to some errors in the sequencing and considered implementing the algorithm as described in the textbook. However, once these errors were corrected, I was able to implement the pseudocode in a straightforward manner without encountering any difficulties. I then created a function to parse expressions from strings into lists. In my chosen format, each expression or subexpression in the string is to be bracketed by a set of parentheses and each variable name is to be preceded by a '?' character. I found that it was not necessary to distinguish between predicates and constants (by using lowercase and uppercase lettering), though it might be necessary in more specific applications of the unification algorithm."
    },
    {
     "cell_type": "code",
     "collapsed": false,
     "input": "",
     "language": "python",
     "metadata": {},
     "outputs": [],
     "prompt_number": 12
    }
   ],
   "metadata": {}
  }
 ]
}