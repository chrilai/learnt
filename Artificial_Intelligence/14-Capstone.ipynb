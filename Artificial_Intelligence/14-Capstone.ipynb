{
 "metadata": {
  "name": ""
 },
 "nbformat": 3,
 "nbformat_minor": 0,
 "worksheets": [
  {
   "cells": [
    {
     "cell_type": "code",
     "collapsed": false,
     "input": [
      "name = \"Christine Lai\"\n",
      "jhed_id = \"clai15\"\n",
      "if name == \"Student Name\" or jhed_id == \"sname1\":\n",
      "    raise Exception( \"Change the name and/or JHED ID...preferrably to yours.\")"
     ],
     "language": "python",
     "metadata": {},
     "outputs": [],
     "prompt_number": 1
    },
    {
     "cell_type": "code",
     "collapsed": false,
     "input": [
      "from clai15_PR1 import a_star_search\n",
      "from clai15_PR2 import payoff, get_solveable_game, solve_game\n",
      "from clai15_PR4 import move, q_learning, get_policy_map\n",
      "from clai15_PR11 import DecisionTree\n",
      "from collections import OrderedDict\n",
      "from random import choice"
     ],
     "language": "python",
     "metadata": {},
     "outputs": [],
     "prompt_number": 2
    },
    {
     "cell_type": "markdown",
     "metadata": {},
     "source": [
      "Read the contents of a text file and return it as a string."
     ]
    },
    {
     "cell_type": "code",
     "collapsed": false,
     "input": [
      "def read_file( filename):\n",
      "    with open(filename, 'r') as text_file:\n",
      "        text = text_file.read()\n",
      "    text_file.closed\n",
      "    return text"
     ],
     "language": "python",
     "metadata": {},
     "outputs": [],
     "prompt_number": 3
    },
    {
     "cell_type": "markdown",
     "metadata": {},
     "source": [
      "Read a file containing a map with each location represented as a character. Store a list of rows in the map, with each row being a list of characters."
     ]
    },
    {
     "cell_type": "code",
     "collapsed": false,
     "input": [
      "def read_map( filename):\n",
      "    with open(filename, 'r') as map_file:\n",
      "        map_matrix = [[char for char in row.strip('\\n')] for row in map_file.readlines()]\n",
      "    map_file.closed\n",
      "    return map_matrix"
     ],
     "language": "python",
     "metadata": {},
     "outputs": [],
     "prompt_number": 4
    },
    {
     "cell_type": "markdown",
     "metadata": {},
     "source": [
      "Return the character representing the map item at the given location."
     ]
    },
    {
     "cell_type": "code",
     "collapsed": false,
     "input": [
      "def map_item( map_matrix, map_location):\n",
      "    return map_matrix[map_location[1]][map_location[0]]"
     ],
     "language": "python",
     "metadata": {},
     "outputs": [],
     "prompt_number": 5
    },
    {
     "cell_type": "markdown",
     "metadata": {},
     "source": [
      "Return a string representation of a map stored as a list of lists."
     ]
    },
    {
     "cell_type": "code",
     "collapsed": false,
     "input": [
      "def map_to_string( map_list):\n",
      "    map_string = ''\n",
      "    space = ''.join([' ' for i in range(len(str(map_list[0][0]))-1)])\n",
      "    map_string += ' '  + space + ' '\n",
      "    for i in range(len(map_list[0])):\n",
      "        map_string += str(i) + space + ' '\n",
      "    map_string += '\\n'\n",
      "    for index, row in enumerate(map_list):\n",
      "        map_string += str(index) + ' '\n",
      "        for item in row:\n",
      "            map_string += str(item) + ' '\n",
      "        map_string += '\\n'\n",
      "    return map_string"
     ],
     "language": "python",
     "metadata": {},
     "outputs": [],
     "prompt_number": 6
    },
    {
     "cell_type": "markdown",
     "metadata": {},
     "source": [
      "Return a description of the Elemental Plane and minor planes."
     ]
    },
    {
     "cell_type": "code",
     "collapsed": false,
     "input": [
      "def get_map_details( planes_map, policy_map, minor_maps):\n",
      "    map_details = read_file('additional_files/map_details.txt')\n",
      "    map_details += 'Map of Elemental Planes' + '\\n'\n",
      "    map_details += map_to_string(planes_map)\n",
      "    map_details += 'Policy for Elemental Planes' + '\\n'\n",
      "    map_details += map_to_string(policy_map)\n",
      "    for minor_map_name, minor_map in minor_maps.items():\n",
      "        map_details += 'Minor Map: ' + minor_map_name + '\\n'\n",
      "        map_details += map_to_string(minor_map)\n",
      "    return map_details"
     ],
     "language": "python",
     "metadata": {},
     "outputs": [],
     "prompt_number": 7
    },
    {
     "cell_type": "markdown",
     "metadata": {},
     "source": [
      "Generate an list of random attributes for a plane."
     ]
    },
    {
     "cell_type": "code",
     "collapsed": false,
     "input": [
      "def get_plane_attributes(plane_attributes):\n",
      "    return [choice(values) for attributes, values in plane_attributes.items()]"
     ],
     "language": "python",
     "metadata": {},
     "outputs": [],
     "prompt_number": 8
    },
    {
     "cell_type": "markdown",
     "metadata": {},
     "source": [
      "Generate a dict of random shrine locations for a minor plane. They cannot be on mountains or water."
     ]
    },
    {
     "cell_type": "code",
     "collapsed": false,
     "input": [
      "def get_shrine_locations(planes, minor_map):\n",
      "    shrine_locations = {}\n",
      "    x = range(len(minor_map[0]))\n",
      "    y = range(len(minor_map))\n",
      "    for plane in planes:\n",
      "        shrine_location = (choice(x), choice(y))\n",
      "        terrain = map_item(minor_map, shrine_location)\n",
      "        while (terrain == 'x' or terrain == '~'):\n",
      "            shrine_location = (choice(x), choice(y))\n",
      "        shrine_locations[plane] = shrine_location\n",
      "    return shrine_locations"
     ],
     "language": "python",
     "metadata": {},
     "outputs": [],
     "prompt_number": 9
    },
    {
     "cell_type": "markdown",
     "metadata": {},
     "source": [
      "Generate a random location to be dropped off in a plane. It cannot be on mountains."
     ]
    },
    {
     "cell_type": "code",
     "collapsed": false,
     "input": [
      "def get_minor_location(minor_map):\n",
      "    x = range(len(minor_map[0]))\n",
      "    y = range(len(minor_map))\n",
      "    minor_location = (choice(x), choice(y))\n",
      "    while (map_item(minor_map, minor_location) == 'x'):\n",
      "        minor_location = (choice(x), choice(y))\n",
      "    return minor_location"
     ],
     "language": "python",
     "metadata": {},
     "outputs": [],
     "prompt_number": 10
    },
    {
     "cell_type": "markdown",
     "metadata": {},
     "source": []
    },
    {
     "cell_type": "code",
     "collapsed": false,
     "input": [
      "class PlanesWorld(object):\n",
      "    def __init__(self):\n",
      "        # get backstory\n",
      "        backstory = read_file('additional_files/backstory.txt')\n",
      "        open('story.txt', 'w').close()\n",
      "        self.story = backstory\n",
      "        print backstory\n",
      "        # set map details\n",
      "        self.planes = {'E':'earth', 'F':'fire', 'W':'water', 'A':'air', 'V':'void'}\n",
      "        self.plane_costs = {'E': -1, 'F': -1, 'W': -1, 'A': -1, 'V': -1}\n",
      "        self.plane_transitions = {'E': 0.65, 'F': 0.70, 'W': 0.75, 'A': 0.80, 'V': 0.85}\n",
      "        self.plane_attributes = OrderedDict([('sun',['rising','setting']), ('moon',['waxing', 'waning']), ('season',['fall', 'summer', 'winter', 'spring'])])\n",
      "        self.minor_costs = {'.': 1, '*': 3, '^': 5, '~': 7}\n",
      "        # get map details\n",
      "        self.planes_map = read_map('additional_files/planes_map.txt')\n",
      "        self.minor_maps = OrderedDict(zip(['map%02d' % (i+1) for i in range(4)],[read_map('additional_files/map%02d.txt' % (i+1)) for i in range(4)]))\n",
      "        self.goal = (len(self.planes_map[0])-1, len(self.planes_map)-1)\n",
      "        # generate policy for traveling between planes\n",
      "        self.planes_policy = q_learning(self.planes_map, self.plane_costs, self.plane_transitions, self.goal)\n",
      "        self.policy_map = get_policy_map(self.planes_map, self.planes_policy)\n",
      "        map_details = get_map_details(self.planes_map, self.policy_map, self.minor_maps)\n",
      "        self.story += map_details\n",
      "        print map_details\n",
      "        # generate decision tree for classifying planes\n",
      "        self.decision_tree = DecisionTree()\n",
      "        self.decision_tree.train('additional_files/map_characteristics.txt')\n",
      "        start = read_file('additional_files/start.txt')\n",
      "        self.story += start\n",
      "        print start\n",
      "        # land on the first elemental plane\n",
      "        self.location = (0,0)\n",
      "        self.plane_characteristics = get_plane_attributes(self.plane_attributes)\n",
      "        self.minor_map = self.minor_maps[self.decision_tree.classify(self.plane_characteristics)]\n",
      "        self.shrine_locations = get_shrine_locations(self.planes, self.minor_map)\n",
      "        self.minor_location = get_minor_location(self.minor_map)\n",
      "        \n",
      "    def step(self):\n",
      "        self.location = move(self.planes_map, self.plane_transitions, self.location, self.planes_policy[self.location])\n",
      "        self.plane_characteristics = get_plane_attributes(self.plane_attributes)\n",
      "        self.minor_map = self.minor_maps[self.decision_tree.classify(self.plane_characteristics)]\n",
      "        self.shrine_locations = get_shrine_locations(self.planes, self.minor_map)\n",
      "        self.minor_location = get_minor_location(self.minor_map)\n",
      "        \n",
      "    def narrate(self):\n",
      "        target_plane = map_item(self.policy_map, self.location)\n",
      "        target_plane_name = self.planes[target_plane]\n",
      "        path = a_star_search(self.minor_map, self.minor_costs, self.minor_location, self.shrine_locations[target_plane])\n",
      "        narration = \"You have landed on plane location \" + str(self.location) + \".\\n\"\n",
      "        narration += \"This is a(n) \" + str(self.planes[map_item(self.planes_map, self.location)]) + \" plane. \" + \\\n",
      "                     \"The sun is \" + str(self.plane_characteristics[0]) + \". \" + \\\n",
      "                     \"The moon is \" + str(self.plane_characteristics[1]) + \". \" + \\\n",
      "                     \"The season is \" + str(self.plane_characteristics[2]) + \".\\n\"\n",
      "        narration += \"The elemental shrine locations are \" + str(self.shrine_locations) + \". \"\n",
      "        narration += \"You plan to go to the \" + str(target_plane_name) + \" plane.\\n\"\n",
      "        narration += \"You use A*-search and take the following path to the \" + str(target_plane_name) + \" shrine: \" + str(path) + \".\\n\"\n",
      "        game_won = False\n",
      "        while (not game_won):\n",
      "            game_won = True\n",
      "            game = get_solveable_game(5, 5, 0, 9)\n",
      "            solution = solve_game(game)\n",
      "            payoffs = payoff(game, solution[0], solution[1])\n",
      "            narration += read_file('additional_files/%sspirit.txt' % target_plane)\n",
      "            narration += \"A \" + str(target_plane_name) + \" spirit is guarding the portal. It presents you with the following game:\\n\"\n",
      "            narration += map_to_string(game)\n",
      "            narration += \"You use successive elimination of dominated strategies to solve the game. The \" + str(target_plane_name) + \\\n",
      "                         \" spirit plays strategy \" + str(solution[0])+ \" and you play strategy \" + str(solution[1]) + \". \"\n",
      "            if (payoffs[0] < payoffs[1]):\n",
      "                narration += \"You have lost the game. The guardian allows you to try another game.\\n\"\n",
      "            else:\n",
      "                narration += \"You have won (or tied) the game. The guardian allows you to step through the portal.\\n\"\n",
      "                game_won = True\n",
      "        self.story += narration\n",
      "        print narration\n",
      "\n",
      "    def end(self):\n",
      "        parents = get_minor_location(minor_map)\n",
      "        path = a_star_search(self.minor_map, self.minor_costs, self.minor_location, parents)\n",
      "        narration = \"You have landed on plane location \" + str(self.location) + \".\\n\"\n",
      "        narration += \"Your parents are on location \" + str(parents) + \"!\"\n",
      "        narration += \"You use A*-search and take the following path to your parents: \" + str(path) + \".\\n\"\n",
      "        narration += read_file('additional_files/end.txt')\n",
      "        self.story += narration\n",
      "        print narration\n",
      "        \n",
      "    def save_story(self):\n",
      "        text_file = open(\"story.txt\", \"w\")\n",
      "        text_file.write(self.story)"
     ],
     "language": "python",
     "metadata": {},
     "outputs": [],
     "prompt_number": "*"
    },
    {
     "cell_type": "code",
     "collapsed": false,
     "input": [
      "planes_world = PlanesWorld()\n",
      "while (planes_world.location != planes_world.goal):\n",
      "    planes_world.narrate()\n",
      "    planes_world.step()\n",
      "planes_world.end()\n",
      "planes_world.save_story()"
     ],
     "language": "python",
     "metadata": {},
     "outputs": [
      {
       "output_type": "stream",
       "stream": "stdout",
       "text": [
        "Your name is Degi. You live in in modern day Japan, where your parents are custodians of the local tourist attraction, a Shinto shrine dedicated to the kami (spirits) of the godai (five elements): chi (earth), sui (water), ka (fire), fu (wind), and ku (void or sky). It appears that your parents' stories have been all too real. There is a war brewing between the Elements that threatens to spill out into the Human Plane. And while you were able dismiss as coincidence a landslide, three fires, a windstorm and a flood, you were unable to ignore an eight foot tall Fire Spirit telling you that your parents had been kidnapped and needed rescuing!\n",
        "\n",
        "Talking flames notwithstanding, you were not about to toss out the Scientific Method. You pored over the notebooks painstakingly assembled by your parents and discovered the following facts:\n",
        "1. The well in the garden is a portal to the Elemental Plane which is itself composed of multiple minor planes.\n",
        "2. There are five types of minor plane, one for each element: earth, water, fire, wind, and void. The elemental planes are arranged in a grid that is n by m. Each plane is connected to its neighbors (up, down, left, right). \n",
        "3. Travel between the (minor) planes is accomplished by using the appropriate portal on the plane. The portal is located at a shrine. So if you're on an earth plane and wish to go the adjacent fire plane, you need to go to the fire shrine and use the portal there. Of course, the shrine for the plane you're on is not a portal. No plane has a portal of its element type, and no plane connects to more than one plane of the same type.\n",
        "4. Travel using the portals is somewhat random because of the mystical energies used to power them. From the notes, it appears that if you take portal, most of the time you end up at the desired destination but sometimes you end up on a different elemental plane.\n",
        "5. Each shrine is guarded by spirit who challenges you to a game. If you win, you may use the portal. If you lose, well, it appears the spirits are supposed to kill you but they're so bored and like playing games so much, they simply offer to play you another game.\n",
        "6. The portals deposit you at a random location on the destination plane (whether it is the intended one or a different one). Each plane has one of four possible geographies and these are determined by the positions of the sun (rising, setting, noon), the moon (waxing, waning) and the seasons (spring, summer, autumn, winter).\n",
        "\n",
        "Fortunately, you are a student of computer science and have implemented the following programs to assist you on your quest:\n",
        "1. You will use a Q-Learning algorithm to create a plan for stochastic travel between elemental planes. You have calculated the following probabilities: earth(E)=65%, fire(F)=70%, water(W)=75%, wind(A)=80%, void(V)=85%.\n",
        "2. You will use A* search to travel through the minor planes and reach the desired shrine. You have calculated the following movement costs: plains(.)=1, forest(*)=3, hills(^)=5, water(~)=7, mountains(x)=impassible.\n",
        "3. You will use a decision tree to determine the map for a plane based on its characteristics.\n",
        "4. You will use successive elimination of dominated strategies to win your games against the guardians.\n",
        "\n",
        "Your parent's notebooks contain maps of the Elemental Plane and four possible minor planes. You use your Q-Learning program to determine what portal to take from each plane location. You note them all for future reference.\n",
        "Map of Elemental Planes\n",
        "  0 1 2 3 4 5 6 7 8 9 \n",
        "0 E F W A V E F W A V \n",
        "1 W A V E F W A V E F \n",
        "2 V E F W A V E F W A \n",
        "3 F W A V E F W A V E \n",
        "4 A V E F W A V E F W \n",
        "5 E F W A V E F W A V \n",
        "6 W A V E F W A V E F \n",
        "7 V E F W A V E F W A \n",
        "8 F W A V E F W A V E \n",
        "9 A V E F W A V E F W \n",
        "Policy for Elemental Planes\n",
        "  0 1 2 3 4 5 6 7 8 9 \n",
        "0 F W V V F F A A V F \n",
        "1 A E F F W V E F W A \n",
        "2 F W A V V F W A A E \n",
        "3 W V V F W W V V F W \n",
        "4 E F W A V V F F A V \n",
        "5 F W A V E W A V V F \n",
        "6 V V F W A V V E F A \n",
        "7 F W A A V F W W A E \n",
        "8 W A V E F W V E F W \n",
        "9 V E F W A V E F W - \n",
        "Minor Map: map01\n",
        "  0 1 2 3 4 5 6 7 8 9 \n",
        "0 . . . . . . * * * . \n",
        "1 . . . . * * * * . . \n",
        "2 . . . . . * * * . . \n",
        "3 . . . . . . * . . . \n",
        "4 ~ ~ ~ ~ . . . . . . \n",
        "5 ~ ~ ~ ~ ~ . . ^ . . \n",
        "6 ~ ~ ~ . . . * ^ ^ ^ \n",
        "7 ~ ~ . . . * * ^ ^ ^ \n",
        "8 ~ . . * * * * * ^ ^ \n",
        "9 . . . . * * * . . ^ \n",
        "Minor Map: map02\n",
        "  0 1 2 3 4 5 6 7 8 9 \n",
        "0 * * * * * * * * * * \n",
        "1 ^ ^ ^ . * * * * * . \n",
        "2 ^ ^ ^ ^ ~ ~ ~ ~ ~ ~ \n",
        "3 . ^ ^ ^ ^ . * * . . \n",
        "4 . . ^ ^ ^ ^ * * . . \n",
        "5 . . ^ ^ ^ ^ * . . . \n",
        "6 . . . ^ ^ ^ . . . . \n",
        "7 . * . . ^ . . ^ . . \n",
        "8 * * . . . . . ^ . . \n",
        "9 * * * . . . . . . . \n",
        "Minor Map: map03\n",
        "  0 1 2 3 4 5 6 7 8 9 \n",
        "0 . ~ ~ . . . . ^ ^ ^ \n",
        "1 . . ~ ~ . . . . ^ ^ \n",
        "2 . . . ~ ~ . . . . . \n",
        "3 . . * * ~ ~ . . . . \n",
        "4 . * * * . ~ ~ . . . \n",
        "5 . . * * * * ~ ~ . . \n",
        "6 * * * * * * . ~ ~ . \n",
        "7 * * * * * . . . ~ ~ \n",
        "8 . * * ^ ^ . . . . . \n",
        "9 . . ^ ^ ^ ^ ^ ^ . . \n",
        "Minor Map: map04\n",
        "  0 1 2 3 4 5 6 7 8 9 \n",
        "0 * * * . . . . . ^ ^ \n",
        "1 * * * * * . . ^ ^ ^ \n",
        "2 * * * * . . . ^ ^ ^ \n",
        "3 . . * * . . ^ ^ ^ ^ \n",
        "4 . . * * . ~ ~ ^ ^ . \n",
        "5 . . ~ ~ ~ ~ ~ ~ . . \n",
        "6 . . . ~ ~ ~ ~ ~ * * \n",
        "7 . . . . ~ ~ ~ * * * \n",
        "8 . . . . . . * * * * \n",
        "9 . . . . . . . * * * \n"
       ]
      }
     ],
     "prompt_number": "*"
    },
    {
     "cell_type": "code",
     "collapsed": false,
     "input": [],
     "language": "python",
     "metadata": {},
     "outputs": [],
     "prompt_number": "*"
    }
   ],
   "metadata": {}
  }
 ]
}