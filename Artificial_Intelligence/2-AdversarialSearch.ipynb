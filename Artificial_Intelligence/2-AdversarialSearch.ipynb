{
 "metadata": {
  "name": "clai15_PR2"
 },
 "nbformat": 3,
 "nbformat_minor": 0,
 "worksheets": [
  {
   "cells": [
    {
     "cell_type": "markdown",
     "metadata": {},
     "source": "Module 2 - Programming Assignment\n=\nThis is the notebook for the Module 2 Programming Assignment.\n\nHere are a few tips for using the iPython HTML notebook:\n\n1.  You can use tab . Try le<&lt;tab> and see the available functions.\n2.  You can change the type of cell by picking \"Code\" or \"Markdown\" from the menu at the left.\n3.  If you keep typing in a Markdown text area, you will eventually get scroll bars. To prevent this, hit return when you come to\nthe end of the window. Only a double return creates a new paragraph.\n4.  You can find out more about Markdown text here: http://daringfireball.net/projects/markdown/ (Copy this link and put it \nin another tab for reference--Don't click it or you'll leave your notebook!).\n5.  Every so often, restart the kernel, clear all output and run all code cells so you can be certain that you didn't\ndefine something out of order.\n\n**You should rename this notebook to be &lt;your JHED id>\\_PR2.ipynb** Do it right now.\n\n**Make certain the entire notebook executes before you submit it.** (See Hint #5 above)\n\nChange the following variables:"
    },
    {
     "cell_type": "code",
     "collapsed": true,
     "input": "name = \"Christine Lai\"\njhed_id = \"clai15\"\nif name == \"Student Name\" or jhed_id == \"sname1\":\n    raise Exception( \"Change the name and/or JHED ID...preferrably to yours.\")",
     "language": "python",
     "metadata": {},
     "outputs": [],
     "prompt_number": 190
    },
    {
     "cell_type": "markdown",
     "metadata": {},
     "source": "Add whatever additional imports you require here. Stick with the standard libraries and those required by the class. The import\ngives you access to these functions: http://ipython.org/ipython-doc/stable/api/generated/IPython.core.display.html (Copy this link)\nWhich, among other things, will permit you to display HTML as the result of evaluated code (see HTML() or display_html())."
    },
    {
     "cell_type": "code",
     "collapsed": true,
     "input": "from IPython.core.display import *\nfrom StringIO import StringIO\nimport random",
     "language": "python",
     "metadata": {},
     "outputs": [],
     "prompt_number": 191
    },
    {
     "cell_type": "markdown",
     "metadata": {},
     "source": "We can represent a Normal Form Game for two players in Python as a list of list of tuples:"
    },
    {
     "cell_type": "code",
     "collapsed": false,
     "input": "prisoners_dilemma = [[( -5, -5), (-1, -10)],\n                     [(-10, -1), (-2, -2)]]\nprisoners_dilemma",
     "language": "python",
     "metadata": {},
     "outputs": [
      {
       "metadata": {},
       "output_type": "pyout",
       "prompt_number": 192,
       "text": "[[(-5, -5), (-1, -10)], [(-10, -1), (-2, -2)]]"
      }
     ],
     "prompt_number": 192
    },
    {
     "cell_type": "markdown",
     "metadata": {},
     "source": "Write a function that takes a game, player 0's strategy as an integer (0-based) and player 1's strategy as an integer and returns the payoff. Player 0's payoff\nis the first entry in the tuple. Player 1's payoff is the second entry in the tuple."
    },
    {
     "cell_type": "code",
     "collapsed": false,
     "input": "def payoff(game, player_0, player_1):\n    return game[player_0][player_1]",
     "language": "python",
     "metadata": {},
     "outputs": [],
     "prompt_number": 193
    },
    {
     "cell_type": "code",
     "collapsed": false,
     "input": "print payoff(prisoners_dilemma, 0, 0) # should return (-5, -5)\nprint payoff(prisoners_dilemma, 0, 1) # should return (-1, -10)\nprint payoff(prisoners_dilemma, 1, 0)\nprint payoff(prisoners_dilemma, 1, 1)",
     "language": "python",
     "metadata": {},
     "outputs": [
      {
       "output_type": "stream",
       "stream": "stdout",
       "text": "(-5, -5)\n(-1, -10)\n(-10, -1)\n(-2, -2)\n"
      }
     ],
     "prompt_number": 194
    },
    {
     "cell_type": "markdown",
     "metadata": {},
     "source": "For this part of the assignment, you should make up three test games (2x2, 3x3, and 4x4) that you know have a pure strategy equilibrium *and* can be solved using\nsuccessive elimination of dominated strategies and three test games (2x2, 3x3, 4x4) that you know either do not have a pure strategy equilibrium or\nhave a pure strategy equilibrium but cannot be solved by using successive elimination of dominated strategies. (**Extra**: can you write a function that generates test cases?)"
    },
    {
     "cell_type": "code",
     "collapsed": false,
     "input": "solvable_0 = [[(0,1),(1,1)],\n              [(1,0),(0,1)]]\nsolvable_1 = [[(0,2),(1,1),(0,1)],\n              [(0,1),(1,0),(1,0)],\n              [(-1,1),(-1,0),(-1,2)]]\nsolvable_2 = [[(1,0),(2,0),(3,5),(4,0)],\n              [(2,0),(2,1),(2,1),(2,0)],\n              [(3,0),(3,1),(4,2),(4,3)],\n              [(4,0),(0,0),(0,0),(0,4)]]\nnot_solvable_0 = [[(1,0),(1,0)],\n                  [(0,1),(0,1)]]\nnot_solvable_1 = [[(1,1),(1,0),(1,1)],\n                  [(0,1),(0,0),(0,1)],\n                  [(-1,1),(-1,0),(-1,1)]]\nnot_solvable_2 = [[(3,0),(4,0),(3,5),(4,0)],\n                  [(2,0),(2,1),(2,1),(2,0)],\n                  [(3,5),(3,1),(4,2),(4,3)],\n                  [(4,0),(0,0),(0,0),(0,4)]]",
     "language": "python",
     "metadata": {},
     "outputs": [],
     "prompt_number": 195
    },
    {
     "cell_type": "markdown",
     "metadata": {},
     "source": "Random test case generator for game with specified number of strategies for players 0 and 1, and specified upper and lower integer bounds for payoffs:"
    },
    {
     "cell_type": "code",
     "collapsed": false,
     "input": "def get_random_game(player_0_strategies, player_1_strategies, lower_bound, upper_bound):\n    game = []\n    if player_0_strategies <= 0 or player_1_strategies <= 0: #check that number of strategies for each player is greater than zero\n        return \"Error: Must have at least 1 strategy for each player.\"\n    for i in range(player_0_strategies): #add a row for each player 0 strategy\n        row = []\n        for j in range(player_1_strategies): #add a column for each player 1 strategy\n            row.append((random.randint(lower_bound, upper_bound),random.randint(lower_bound, upper_bound))) #add a random payoff\n        game.append(row)\n    return game",
     "language": "python",
     "metadata": {},
     "outputs": [],
     "prompt_number": 196
    },
    {
     "cell_type": "markdown",
     "metadata": {},
     "source": "Now write a function that either solves a game by successive elimination of dominated strategies or returns \"no solution found\". Write however many helper functions as you need. Provide a test case for each as well as Markdown documentation for the function, usage and rationale. Your code will be tested on games of my choosing."
    },
    {
     "cell_type": "markdown",
     "metadata": {},
     "source": "Examine player 0's strategies to find and return a (strongly or weakly) dominated row, if any:"
    },
    {
     "cell_type": "code",
     "collapsed": false,
     "input": "def get_dominated_row(game_matrix, game_solution):\n    dominated = False\n    row_length = len(game_matrix[0])\n    for row_index, row in enumerate(game_matrix): #select each strategy\n        if row_index in game_solution[0]:\n            for other_row_index, other_row in enumerate(game_matrix): #compare to each other strategy\n                if other_row_index in game_solution[0] and row_index != other_row_index:\n                    for column_index in range(row_length): #check if row is dominated \n                        if column_index in game_solution[1]:\n                            if row[column_index][0] < other_row[column_index][0]:\n                                dominated = True\n                            elif row[column_index][0] > other_row[column_index][0]:\n                                dominated = False\n                                break\n        if dominated:\n            return row_index\n    return None",
     "language": "python",
     "metadata": {},
     "outputs": [],
     "prompt_number": 197
    },
    {
     "cell_type": "markdown",
     "metadata": {},
     "source": "Examine player 1's strategies to find and return the index of a (strongly or weakly) dominated column, if any:"
    },
    {
     "cell_type": "code",
     "collapsed": false,
     "input": "def get_dominated_column(game_matrix, game_solution):\n    dominated = False\n    row_length = len(game_matrix[0])\n    for column_index in range(row_length):\n        if column_index in game_solution[1]:\n            for other_column_index in range(row_length):\n                if other_column_index in game_solution[1] and column_index != other_column_index:\n                    for row_index, row in enumerate(game_matrix): #check if column is dominated\n                        if row_index in game_solution[0]:\n                            if row[column_index][1] < row[other_column_index][1]:\n                                dominated = True\n                            elif row[column_index][1] > row[other_column_index][1]:\n                                dominated = False\n                                break\n        if dominated:\n            return column_index\n        else:\n            continue\n    return None",
     "language": "python",
     "metadata": {},
     "outputs": [],
     "prompt_number": 198
    },
    {
     "cell_type": "markdown",
     "metadata": {},
     "source": "Remove a row representing a player 0 strategy from the game:"
    },
    {
     "cell_type": "code",
     "collapsed": false,
     "input": "def eliminate_row(game_matrix, row_index):\n    game_matrix.pop(row_index)\n    return game_matrix",
     "language": "python",
     "metadata": {},
     "outputs": [],
     "prompt_number": 199
    },
    {
     "cell_type": "markdown",
     "metadata": {},
     "source": "Remove a column representing a player 1 strategy from the game:"
    },
    {
     "cell_type": "code",
     "collapsed": false,
     "input": "def eliminate_column(game_matrix, column_index):\n    for row in game_matrix:\n        row.pop(column_index)\n    return game_matrix",
     "language": "python",
     "metadata": {},
     "outputs": [],
     "prompt_number": 200
    },
    {
     "cell_type": "markdown",
     "metadata": {},
     "source": "Check whether a solution has been found to a game:"
    },
    {
     "cell_type": "code",
     "collapsed": false,
     "input": "def isSolution(game_solution):\n    return len(game_solution[0]) == 1 and len(game_solution[1]) == 1",
     "language": "python",
     "metadata": {},
     "outputs": [],
     "prompt_number": 201
    },
    {
     "cell_type": "markdown",
     "metadata": {},
     "source": "*Keep all of your helper functions above this cell.*\nSolve the specified game using successive elimination of dominated strategies and return the pure strategy (Nash) equilibrium, if any. The Nash equilibrium consists of the player strategies that would be chosen by each player after dominated strategies have been eliminated, in alternating succession, for player 0 and player 1, until only one strategy remains. A strongly dominated strategy is a strategy where the payoff is strictly less than the payoff for another strategy, regardless of what strategy is chosen by the other player; a weakly dominated strategy is a strategy where the payoff is less than or sometimes equal to the payoff for another strategy, regardless of what strategy is chosen by the other player. The algorithm used here eliminates both strongly and weakly dominated strategies to improve the chance of finding a solution."
    },
    {
     "cell_type": "code",
     "collapsed": false,
     "input": "def solve_game(game, debug=False):\n    game_solution = [[i for i in range(len(game))], [j for j in range(len(game[0]))]]\n    while not isSolution(game_solution): #continue until a solution is found\n        dominated_row_index = get_dominated_row(game, game_solution) #search for dominated player 0 strategy\n        if dominated_row_index != None:\n            game_solution[0].remove(dominated_row_index) #remove dominated player 0 strategy\n        dominated_column_index = get_dominated_column(game, game_solution) #search for dominated player 1 strategy\n        if dominated_column_index != None:\n            game_solution[1].remove(dominated_column_index) #remove dominated player 1 strategy\n        elif dominated_row_index == None and dominated_column_index == None and not isSolution(game_solution):\n            return \"no solution found\" #return message if no solution can be found by successive elimination\n        if debug == True:\n            print \"dominated row: \" + str(dominated_row_index)\n            print \"dominated column: \" + str(dominated_column_index)\n            print \"remaining strategies: \" +str(game_solution)\n    return [game_solution[0][0], game_solution[1][0]] #return solution",
     "language": "python",
     "metadata": {},
     "outputs": [],
     "prompt_number": 202
    },
    {
     "cell_type": "markdown",
     "metadata": {},
     "source": "Run test cases:"
    },
    {
     "cell_type": "code",
     "collapsed": false,
     "input": "random_game_0 = get_random_game(2, 2, -5, 5)\nrandom_game_1 = get_random_game(3, 3, -5, 5)\nrandom_game_2 = get_random_game(4, 4, -10, 10)\nprint \"2x2 solvable: \" + str(solvable_0) + \" = \" + str(solve_game(solvable_0))\nprint \"3x3 solvable: \" + str(solvable_1) + \" = \" + str(solve_game(solvable_1))\nprint \"4x4 solvable: \" + str(solvable_2) + \" = \" + str(solve_game(solvable_2))\nprint \"2x2 unsolvable: \" + str(not_solvable_0) + \" = \" + str(solve_game(not_solvable_0))\nprint \"3x3 unsolvable: \" + str(not_solvable_1) + \" = \" + str(solve_game(not_solvable_1))\nprint \"4x4 unsolvable: \" + str(not_solvable_2) + \" = \" + str(solve_game(not_solvable_2))\nprint \"2x2 random: \" + str(random_game_0) + \" = \" + str(solve_game(random_game_0))\nprint \"3x3 random: \" + str(random_game_1) + \" = \" + str(solve_game(random_game_1))\nprint \"4x4 random: \" + str(random_game_2) + \" = \" + str(solve_game(random_game_2))",
     "language": "python",
     "metadata": {},
     "outputs": [
      {
       "output_type": "stream",
       "stream": "stdout",
       "text": "2x2 solvable: [[(0, 1), (1, 1)], [(1, 0), (0, 1)]] = [0, 1]\n3x3 solvable: [[(0, 2), (1, 1), (0, 1)], [(0, 1), (1, 0), (1, 0)], [(-1, 1), (-1, 0), (-1, 2)]] = [1, 0]\n4x4 solvable: [[(1, 0), (2, 0), (3, 5), (4, 0)], [(2, 0), (2, 1), (2, 1), (2, 0)], [(3, 0), (3, 1), (4, 2), (4, 3)], [(4, 0), (0, 0), (0, 0), (0, 4)]] = [2, 3]\n2x2 unsolvable: [[(1, 0), (1, 0)], [(0, 1), (0, 1)]] = no solution found\n3x3 unsolvable: [[(1, 1), (1, 0), (1, 1)], [(0, 1), (0, 0), (0, 1)], [(-1, 1), (-1, 0), (-1, 1)]] = no solution found\n4x4 unsolvable: [[(3, 0), (4, 0), (3, 5), (4, 0)], [(2, 0), (2, 1), (2, 1), (2, 0)], [(3, 5), (3, 1), (4, 2), (4, 3)], [(4, 0), (0, 0), (0, 0), (0, 4)]] = no solution found\n2x2 random: [[(-3, 3), (-3, -4)], [(4, 5), (5, 2)]] = [1, 0]\n3x3 random: [[(-1, 3), (5, -2), (4, -5)], [(2, -2), (5, 1), (-4, 1)], [(2, 2), (0, -3), (0, -4)]] = [1, 1]\n4x4 random: [[(-5, -5), (7, 5), (6, -7), (5, -7)], [(8, 5), (-9, 6), (3, -2), (4, -6)], [(-4, -4), (-4, -7), (3, -10), (1, 0)], [(-9, -10), (6, 6), (4, -3), (6, 10)]] = no solution found\n"
      }
     ],
     "prompt_number": 203
    },
    {
     "cell_type": "markdown",
     "metadata": {},
     "source": "What I learned/questions/observations:\n\nSince I completed the assignment prior to seeing the post on the forum clarifying that we were to return the strategy pair in the form (player_0_strategy, player_1_strategy), I originally structured my program to return the equilibrium payoff values (player_0_payoff, player_1_payoff) without tracking which strategies were chosen. I made a decision to eliminate weakly dominated strategies because I found that there were many cases in which there are no strongly dominated strategies, and it would still make sense for a player to eliminate the weakly dominated strategies.\n\nI had some difficulty with getting my program to run at first, as I was successively removing values from a game strategy matrix and had to keep track of the bounds. I think that if I were to complete this assignment again, I would create a boolean matrix or add an indicator to tag which strategies have been eliminated. This would make it easier to return the strategy pair rather than the payoff as the solution."
    },
    {
     "cell_type": "code",
     "collapsed": false,
     "input": "# leave this cell for my testing.",
     "language": "python",
     "metadata": {},
     "outputs": [],
     "prompt_number": 204
    }
   ],
   "metadata": {}
  }
 ]
}